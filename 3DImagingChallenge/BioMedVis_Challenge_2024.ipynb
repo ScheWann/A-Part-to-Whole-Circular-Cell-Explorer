{
  "cells": [
    {
      "cell_type": "markdown",
      "metadata": {
        "id": "pSxVJX9dTuNG",
        "nbsphinx": "hidden"
      },
      "source": [
        "# BioMedVis Challenge 2024"
      ]
    },
    {
      "cell_type": "markdown",
      "metadata": {
        "id": "pZ0NXwtIZGW2"
      },
      "source": [
        "## Package Installation to Set Up the Environment:"
      ]
    },
    {
      "cell_type": "code",
      "execution_count": 1,
      "metadata": {
        "colab": {
          "base_uri": "https://localhost:8080/"
        },
        "id": "OQkfQkmEZIFf",
        "outputId": "f292e4fc-85f5-41d9-8f21-900ffb636126"
      },
      "outputs": [
        {
          "name": "stdout",
          "output_type": "stream",
          "text": [
            "Requirement already satisfied: vitessce in /Users/siyuanzhao/anaconda3/envs/VDS/lib/python3.10/site-packages (3.2.6)\n",
            "Requirement already satisfied: anywidget in /Users/siyuanzhao/anaconda3/envs/VDS/lib/python3.10/site-packages (0.9.12)\n",
            "Requirement already satisfied: uvicorn in /Users/siyuanzhao/anaconda3/envs/VDS/lib/python3.10/site-packages (0.30.1)\n",
            "Requirement already satisfied: starlette in /Users/siyuanzhao/anaconda3/envs/VDS/lib/python3.10/site-packages (0.37.2)\n",
            "Requirement already satisfied: ome-zarr in /Users/siyuanzhao/anaconda3/envs/VDS/lib/python3.10/site-packages (0.8.3)\n",
            "Requirement already satisfied: ome_types in /Users/siyuanzhao/anaconda3/envs/VDS/lib/python3.10/site-packages (0.5.1.post1)\n",
            "Requirement already satisfied: zarr>=2.5.0 in /Users/siyuanzhao/anaconda3/envs/VDS/lib/python3.10/site-packages (from vitessce) (2.18.2)\n",
            "Requirement already satisfied: numcodecs>=0.5.7 in /Users/siyuanzhao/anaconda3/envs/VDS/lib/python3.10/site-packages (from vitessce) (0.12.1)\n",
            "Requirement already satisfied: scipy>=1.2.1 in /Users/siyuanzhao/anaconda3/envs/VDS/lib/python3.10/site-packages (from vitessce) (1.11.4)\n",
            "Requirement already satisfied: negspy>=0.2.24 in /Users/siyuanzhao/anaconda3/envs/VDS/lib/python3.10/site-packages (from vitessce) (0.2.24)\n",
            "Requirement already satisfied: pandas>=1.1.2 in /Users/siyuanzhao/anaconda3/envs/VDS/lib/python3.10/site-packages (from vitessce) (2.2.2)\n",
            "Requirement already satisfied: black>=21.11b1 in /Users/siyuanzhao/anaconda3/envs/VDS/lib/python3.10/site-packages (from vitessce) (24.4.2)\n",
            "Requirement already satisfied: numpy>=1.21.2 in /Users/siyuanzhao/anaconda3/envs/VDS/lib/python3.10/site-packages (from vitessce) (1.26.1)\n",
            "Requirement already satisfied: anndata<0.11,>=0.7.8 in /Users/siyuanzhao/anaconda3/envs/VDS/lib/python3.10/site-packages (from vitessce) (0.10.7)\n",
            "Requirement already satisfied: scanpy>=1.9.3 in /Users/siyuanzhao/anaconda3/envs/VDS/lib/python3.10/site-packages (from vitessce) (1.10.1)\n",
            "Requirement already satisfied: tifffile>=2020.10.1 in /Users/siyuanzhao/anaconda3/envs/VDS/lib/python3.10/site-packages (from vitessce) (2024.2.12)\n",
            "Requirement already satisfied: jsonschema>=3.2 in /Users/siyuanzhao/anaconda3/envs/VDS/lib/python3.10/site-packages (from vitessce) (4.19.2)\n",
            "Requirement already satisfied: tqdm>=4.1.0 in /Users/siyuanzhao/anaconda3/envs/VDS/lib/python3.10/site-packages (from vitessce) (4.66.1)\n",
            "Requirement already satisfied: aiohttp<4 in /Users/siyuanzhao/anaconda3/envs/VDS/lib/python3.10/site-packages (from ome-zarr) (3.9.2)\n",
            "Requirement already satisfied: dask in /Users/siyuanzhao/anaconda3/envs/VDS/lib/python3.10/site-packages (from ome-zarr) (2024.5.2)\n",
            "Requirement already satisfied: distributed in /Users/siyuanzhao/anaconda3/envs/VDS/lib/python3.10/site-packages (from ome-zarr) (2024.5.2)\n",
            "Requirement already satisfied: fsspec!=2021.07.0,!=2023.09.0,>=0.8 in /Users/siyuanzhao/anaconda3/envs/VDS/lib/python3.10/site-packages (from fsspec[s3]!=2021.07.0,!=2023.09.0,>=0.8->ome-zarr) (2024.6.0)\n",
            "Requirement already satisfied: requests in /Users/siyuanzhao/anaconda3/envs/VDS/lib/python3.10/site-packages (from ome-zarr) (2.31.0)\n",
            "Requirement already satisfied: scikit-image in /Users/siyuanzhao/anaconda3/envs/VDS/lib/python3.10/site-packages (from ome-zarr) (0.22.0)\n",
            "Requirement already satisfied: toolz in /Users/siyuanzhao/anaconda3/envs/VDS/lib/python3.10/site-packages (from ome-zarr) (0.12.1)\n",
            "Requirement already satisfied: ipywidgets>=7.6.0 in /Users/siyuanzhao/anaconda3/envs/VDS/lib/python3.10/site-packages (from anywidget) (8.0.4)\n",
            "Requirement already satisfied: psygnal>=0.8.1 in /Users/siyuanzhao/anaconda3/envs/VDS/lib/python3.10/site-packages (from anywidget) (0.11.1)\n",
            "Requirement already satisfied: typing-extensions>=4.2.0 in /Users/siyuanzhao/anaconda3/envs/VDS/lib/python3.10/site-packages (from anywidget) (4.7.1)\n",
            "Requirement already satisfied: click>=7.0 in /Users/siyuanzhao/anaconda3/envs/VDS/lib/python3.10/site-packages (from uvicorn) (8.1.7)\n",
            "Requirement already satisfied: h11>=0.8 in /Users/siyuanzhao/anaconda3/envs/VDS/lib/python3.10/site-packages (from uvicorn) (0.14.0)\n",
            "Requirement already satisfied: anyio<5,>=3.4.0 in /Users/siyuanzhao/anaconda3/envs/VDS/lib/python3.10/site-packages (from starlette) (3.5.0)\n",
            "Requirement already satisfied: pydantic-compat>=0.1.0 in /Users/siyuanzhao/anaconda3/envs/VDS/lib/python3.10/site-packages (from ome_types) (0.1.2)\n",
            "Requirement already satisfied: pydantic>=1.9.0 in /Users/siyuanzhao/anaconda3/envs/VDS/lib/python3.10/site-packages (from ome_types) (2.7.3)\n",
            "Requirement already satisfied: xsdata<24.4,>=23.6 in /Users/siyuanzhao/anaconda3/envs/VDS/lib/python3.10/site-packages (from ome_types) (24.3.1)\n",
            "Requirement already satisfied: aiosignal>=1.1.2 in /Users/siyuanzhao/anaconda3/envs/VDS/lib/python3.10/site-packages (from aiohttp<4->ome-zarr) (1.3.1)\n",
            "Requirement already satisfied: attrs>=17.3.0 in /Users/siyuanzhao/anaconda3/envs/VDS/lib/python3.10/site-packages (from aiohttp<4->ome-zarr) (23.1.0)\n",
            "Requirement already satisfied: frozenlist>=1.1.1 in /Users/siyuanzhao/anaconda3/envs/VDS/lib/python3.10/site-packages (from aiohttp<4->ome-zarr) (1.4.1)\n",
            "Requirement already satisfied: multidict<7.0,>=4.5 in /Users/siyuanzhao/anaconda3/envs/VDS/lib/python3.10/site-packages (from aiohttp<4->ome-zarr) (6.0.4)\n",
            "Requirement already satisfied: yarl<2.0,>=1.0 in /Users/siyuanzhao/anaconda3/envs/VDS/lib/python3.10/site-packages (from aiohttp<4->ome-zarr) (1.9.4)\n",
            "Requirement already satisfied: async-timeout<5.0,>=4.0 in /Users/siyuanzhao/anaconda3/envs/VDS/lib/python3.10/site-packages (from aiohttp<4->ome-zarr) (4.0.3)\n",
            "Requirement already satisfied: array-api-compat!=1.5,>1.4 in /Users/siyuanzhao/anaconda3/envs/VDS/lib/python3.10/site-packages (from anndata<0.11,>=0.7.8->vitessce) (1.7.1)\n",
            "Requirement already satisfied: exceptiongroup in /Users/siyuanzhao/anaconda3/envs/VDS/lib/python3.10/site-packages (from anndata<0.11,>=0.7.8->vitessce) (1.0.4)\n",
            "Requirement already satisfied: h5py>=3.1 in /Users/siyuanzhao/anaconda3/envs/VDS/lib/python3.10/site-packages (from anndata<0.11,>=0.7.8->vitessce) (3.11.0)\n",
            "Requirement already satisfied: natsort in /Users/siyuanzhao/anaconda3/envs/VDS/lib/python3.10/site-packages (from anndata<0.11,>=0.7.8->vitessce) (8.4.0)\n",
            "Requirement already satisfied: packaging>=20.0 in /Users/siyuanzhao/anaconda3/envs/VDS/lib/python3.10/site-packages (from anndata<0.11,>=0.7.8->vitessce) (23.1)\n",
            "Requirement already satisfied: idna>=2.8 in /Users/siyuanzhao/anaconda3/envs/VDS/lib/python3.10/site-packages (from anyio<5,>=3.4.0->starlette) (3.4)\n",
            "Requirement already satisfied: sniffio>=1.1 in /Users/siyuanzhao/anaconda3/envs/VDS/lib/python3.10/site-packages (from anyio<5,>=3.4.0->starlette) (1.2.0)\n",
            "Requirement already satisfied: mypy-extensions>=0.4.3 in /Users/siyuanzhao/anaconda3/envs/VDS/lib/python3.10/site-packages (from black>=21.11b1->vitessce) (1.0.0)\n",
            "Requirement already satisfied: pathspec>=0.9.0 in /Users/siyuanzhao/anaconda3/envs/VDS/lib/python3.10/site-packages (from black>=21.11b1->vitessce) (0.12.1)\n",
            "Requirement already satisfied: platformdirs>=2 in /Users/siyuanzhao/anaconda3/envs/VDS/lib/python3.10/site-packages (from black>=21.11b1->vitessce) (3.10.0)\n",
            "Requirement already satisfied: tomli>=1.1.0 in /Users/siyuanzhao/anaconda3/envs/VDS/lib/python3.10/site-packages (from black>=21.11b1->vitessce) (2.0.1)\n",
            "Requirement already satisfied: s3fs in /Users/siyuanzhao/anaconda3/envs/VDS/lib/python3.10/site-packages (from fsspec[s3]!=2021.07.0,!=2023.09.0,>=0.8->ome-zarr) (2024.6.0)\n",
            "Requirement already satisfied: ipykernel>=4.5.1 in /Users/siyuanzhao/anaconda3/envs/VDS/lib/python3.10/site-packages (from ipywidgets>=7.6.0->anywidget) (6.25.0)\n",
            "Requirement already satisfied: ipython>=6.1.0 in /Users/siyuanzhao/anaconda3/envs/VDS/lib/python3.10/site-packages (from ipywidgets>=7.6.0->anywidget) (8.15.0)\n",
            "Requirement already satisfied: traitlets>=4.3.1 in /Users/siyuanzhao/anaconda3/envs/VDS/lib/python3.10/site-packages (from ipywidgets>=7.6.0->anywidget) (5.7.1)\n",
            "Requirement already satisfied: widgetsnbextension~=4.0 in /Users/siyuanzhao/anaconda3/envs/VDS/lib/python3.10/site-packages (from ipywidgets>=7.6.0->anywidget) (4.0.5)\n",
            "Requirement already satisfied: jupyterlab-widgets~=3.0 in /Users/siyuanzhao/anaconda3/envs/VDS/lib/python3.10/site-packages (from ipywidgets>=7.6.0->anywidget) (3.0.9)\n",
            "Requirement already satisfied: jsonschema-specifications>=2023.03.6 in /Users/siyuanzhao/anaconda3/envs/VDS/lib/python3.10/site-packages (from jsonschema>=3.2->vitessce) (2023.7.1)\n",
            "Requirement already satisfied: referencing>=0.28.4 in /Users/siyuanzhao/anaconda3/envs/VDS/lib/python3.10/site-packages (from jsonschema>=3.2->vitessce) (0.30.2)\n",
            "Requirement already satisfied: rpds-py>=0.7.1 in /Users/siyuanzhao/anaconda3/envs/VDS/lib/python3.10/site-packages (from jsonschema>=3.2->vitessce) (0.10.6)\n",
            "Requirement already satisfied: python-dateutil>=2.8.2 in /Users/siyuanzhao/anaconda3/envs/VDS/lib/python3.10/site-packages (from pandas>=1.1.2->vitessce) (2.8.2)\n",
            "Requirement already satisfied: pytz>=2020.1 in /Users/siyuanzhao/anaconda3/envs/VDS/lib/python3.10/site-packages (from pandas>=1.1.2->vitessce) (2023.3.post1)\n",
            "Requirement already satisfied: tzdata>=2022.7 in /Users/siyuanzhao/anaconda3/envs/VDS/lib/python3.10/site-packages (from pandas>=1.1.2->vitessce) (2023.3)\n",
            "Requirement already satisfied: annotated-types>=0.4.0 in /Users/siyuanzhao/anaconda3/envs/VDS/lib/python3.10/site-packages (from pydantic>=1.9.0->ome_types) (0.7.0)\n",
            "Requirement already satisfied: pydantic-core==2.18.4 in /Users/siyuanzhao/anaconda3/envs/VDS/lib/python3.10/site-packages (from pydantic>=1.9.0->ome_types) (2.18.4)\n",
            "Requirement already satisfied: joblib in /Users/siyuanzhao/anaconda3/envs/VDS/lib/python3.10/site-packages (from scanpy>=1.9.3->vitessce) (1.3.2)\n",
            "Requirement already satisfied: legacy-api-wrap>=1.4 in /Users/siyuanzhao/anaconda3/envs/VDS/lib/python3.10/site-packages (from scanpy>=1.9.3->vitessce) (1.4)\n",
            "Requirement already satisfied: matplotlib>=3.6 in /Users/siyuanzhao/anaconda3/envs/VDS/lib/python3.10/site-packages (from scanpy>=1.9.3->vitessce) (3.8.2)\n",
            "Requirement already satisfied: networkx>=2.7 in /Users/siyuanzhao/anaconda3/envs/VDS/lib/python3.10/site-packages (from scanpy>=1.9.3->vitessce) (3.2.1)\n",
            "Requirement already satisfied: numba>=0.56 in /Users/siyuanzhao/anaconda3/envs/VDS/lib/python3.10/site-packages (from scanpy>=1.9.3->vitessce) (0.59.1)\n",
            "Requirement already satisfied: patsy in /Users/siyuanzhao/anaconda3/envs/VDS/lib/python3.10/site-packages (from scanpy>=1.9.3->vitessce) (0.5.6)\n",
            "Requirement already satisfied: pynndescent>=0.5 in /Users/siyuanzhao/anaconda3/envs/VDS/lib/python3.10/site-packages (from scanpy>=1.9.3->vitessce) (0.5.12)\n",
            "Requirement already satisfied: scikit-learn>=0.24 in /Users/siyuanzhao/anaconda3/envs/VDS/lib/python3.10/site-packages (from scanpy>=1.9.3->vitessce) (1.3.2)\n",
            "Requirement already satisfied: seaborn>=0.13 in /Users/siyuanzhao/anaconda3/envs/VDS/lib/python3.10/site-packages (from scanpy>=1.9.3->vitessce) (0.13.2)\n",
            "Requirement already satisfied: session-info in /Users/siyuanzhao/anaconda3/envs/VDS/lib/python3.10/site-packages (from scanpy>=1.9.3->vitessce) (1.0.0)\n",
            "Requirement already satisfied: statsmodels>=0.13 in /Users/siyuanzhao/anaconda3/envs/VDS/lib/python3.10/site-packages (from scanpy>=1.9.3->vitessce) (0.14.2)\n",
            "Requirement already satisfied: umap-learn!=0.5.0,>=0.5 in /Users/siyuanzhao/anaconda3/envs/VDS/lib/python3.10/site-packages (from scanpy>=1.9.3->vitessce) (0.5.6)\n",
            "Requirement already satisfied: asciitree in /Users/siyuanzhao/anaconda3/envs/VDS/lib/python3.10/site-packages (from zarr>=2.5.0->vitessce) (0.3.3)\n",
            "Requirement already satisfied: fasteners in /Users/siyuanzhao/anaconda3/envs/VDS/lib/python3.10/site-packages (from zarr>=2.5.0->vitessce) (0.19)\n",
            "Requirement already satisfied: cloudpickle>=1.5.0 in /Users/siyuanzhao/anaconda3/envs/VDS/lib/python3.10/site-packages (from dask->ome-zarr) (3.0.0)\n",
            "Requirement already satisfied: partd>=1.2.0 in /Users/siyuanzhao/anaconda3/envs/VDS/lib/python3.10/site-packages (from dask->ome-zarr) (1.4.2)\n",
            "Requirement already satisfied: pyyaml>=5.3.1 in /Users/siyuanzhao/anaconda3/envs/VDS/lib/python3.10/site-packages (from dask->ome-zarr) (6.0.1)\n",
            "Requirement already satisfied: importlib-metadata>=4.13.0 in /Users/siyuanzhao/anaconda3/envs/VDS/lib/python3.10/site-packages (from dask->ome-zarr) (6.8.0)\n",
            "Requirement already satisfied: jinja2>=2.10.3 in /Users/siyuanzhao/anaconda3/envs/VDS/lib/python3.10/site-packages (from distributed->ome-zarr) (3.1.2)\n",
            "Requirement already satisfied: locket>=1.0.0 in /Users/siyuanzhao/anaconda3/envs/VDS/lib/python3.10/site-packages (from distributed->ome-zarr) (1.0.0)\n",
            "Requirement already satisfied: msgpack>=1.0.0 in /Users/siyuanzhao/anaconda3/envs/VDS/lib/python3.10/site-packages (from distributed->ome-zarr) (1.0.8)\n",
            "Requirement already satisfied: psutil>=5.7.2 in /Users/siyuanzhao/anaconda3/envs/VDS/lib/python3.10/site-packages (from distributed->ome-zarr) (5.9.0)\n",
            "Requirement already satisfied: sortedcontainers>=2.0.5 in /Users/siyuanzhao/anaconda3/envs/VDS/lib/python3.10/site-packages (from distributed->ome-zarr) (2.4.0)\n",
            "Requirement already satisfied: tblib>=1.6.0 in /Users/siyuanzhao/anaconda3/envs/VDS/lib/python3.10/site-packages (from distributed->ome-zarr) (3.0.0)\n",
            "Requirement already satisfied: tornado>=6.0.4 in /Users/siyuanzhao/anaconda3/envs/VDS/lib/python3.10/site-packages (from distributed->ome-zarr) (6.3.3)\n",
            "Requirement already satisfied: urllib3>=1.24.3 in /Users/siyuanzhao/anaconda3/envs/VDS/lib/python3.10/site-packages (from distributed->ome-zarr) (1.26.18)\n",
            "Requirement already satisfied: zict>=3.0.0 in /Users/siyuanzhao/anaconda3/envs/VDS/lib/python3.10/site-packages (from distributed->ome-zarr) (3.0.0)\n",
            "Requirement already satisfied: charset-normalizer<4,>=2 in /Users/siyuanzhao/anaconda3/envs/VDS/lib/python3.10/site-packages (from requests->ome-zarr) (2.0.4)\n",
            "Requirement already satisfied: certifi>=2017.4.17 in /Users/siyuanzhao/anaconda3/envs/VDS/lib/python3.10/site-packages (from requests->ome-zarr) (2023.11.17)\n",
            "Requirement already satisfied: pillow>=9.0.1 in /Users/siyuanzhao/anaconda3/envs/VDS/lib/python3.10/site-packages (from scikit-image->ome-zarr) (10.1.0)\n",
            "Requirement already satisfied: imageio>=2.27 in /Users/siyuanzhao/anaconda3/envs/VDS/lib/python3.10/site-packages (from scikit-image->ome-zarr) (2.34.0)\n",
            "Requirement already satisfied: lazy_loader>=0.3 in /Users/siyuanzhao/anaconda3/envs/VDS/lib/python3.10/site-packages (from scikit-image->ome-zarr) (0.3)\n",
            "Requirement already satisfied: zipp>=0.5 in /Users/siyuanzhao/anaconda3/envs/VDS/lib/python3.10/site-packages (from importlib-metadata>=4.13.0->dask->ome-zarr) (3.17.0)\n",
            "Requirement already satisfied: appnope in /Users/siyuanzhao/anaconda3/envs/VDS/lib/python3.10/site-packages (from ipykernel>=4.5.1->ipywidgets>=7.6.0->anywidget) (0.1.2)\n",
            "Requirement already satisfied: comm>=0.1.1 in /Users/siyuanzhao/anaconda3/envs/VDS/lib/python3.10/site-packages (from ipykernel>=4.5.1->ipywidgets>=7.6.0->anywidget) (0.1.2)\n",
            "Requirement already satisfied: debugpy>=1.6.5 in /Users/siyuanzhao/anaconda3/envs/VDS/lib/python3.10/site-packages (from ipykernel>=4.5.1->ipywidgets>=7.6.0->anywidget) (1.6.7)\n",
            "Requirement already satisfied: jupyter-client>=6.1.12 in /Users/siyuanzhao/anaconda3/envs/VDS/lib/python3.10/site-packages (from ipykernel>=4.5.1->ipywidgets>=7.6.0->anywidget) (8.6.0)\n",
            "Requirement already satisfied: jupyter-core!=5.0.*,>=4.12 in /Users/siyuanzhao/anaconda3/envs/VDS/lib/python3.10/site-packages (from ipykernel>=4.5.1->ipywidgets>=7.6.0->anywidget) (5.5.0)\n",
            "Requirement already satisfied: matplotlib-inline>=0.1 in /Users/siyuanzhao/anaconda3/envs/VDS/lib/python3.10/site-packages (from ipykernel>=4.5.1->ipywidgets>=7.6.0->anywidget) (0.1.6)\n",
            "Requirement already satisfied: nest-asyncio in /Users/siyuanzhao/anaconda3/envs/VDS/lib/python3.10/site-packages (from ipykernel>=4.5.1->ipywidgets>=7.6.0->anywidget) (1.5.6)\n",
            "Requirement already satisfied: pyzmq>=20 in /Users/siyuanzhao/anaconda3/envs/VDS/lib/python3.10/site-packages (from ipykernel>=4.5.1->ipywidgets>=7.6.0->anywidget) (25.1.0)\n",
            "Requirement already satisfied: backcall in /Users/siyuanzhao/anaconda3/envs/VDS/lib/python3.10/site-packages (from ipython>=6.1.0->ipywidgets>=7.6.0->anywidget) (0.2.0)\n",
            "Requirement already satisfied: decorator in /Users/siyuanzhao/anaconda3/envs/VDS/lib/python3.10/site-packages (from ipython>=6.1.0->ipywidgets>=7.6.0->anywidget) (5.1.1)\n",
            "Requirement already satisfied: jedi>=0.16 in /Users/siyuanzhao/anaconda3/envs/VDS/lib/python3.10/site-packages (from ipython>=6.1.0->ipywidgets>=7.6.0->anywidget) (0.18.1)\n",
            "Requirement already satisfied: pickleshare in /Users/siyuanzhao/anaconda3/envs/VDS/lib/python3.10/site-packages (from ipython>=6.1.0->ipywidgets>=7.6.0->anywidget) (0.7.5)\n",
            "Requirement already satisfied: prompt-toolkit!=3.0.37,<3.1.0,>=3.0.30 in /Users/siyuanzhao/anaconda3/envs/VDS/lib/python3.10/site-packages (from ipython>=6.1.0->ipywidgets>=7.6.0->anywidget) (3.0.36)\n",
            "Requirement already satisfied: pygments>=2.4.0 in /Users/siyuanzhao/anaconda3/envs/VDS/lib/python3.10/site-packages (from ipython>=6.1.0->ipywidgets>=7.6.0->anywidget) (2.15.1)\n",
            "Requirement already satisfied: stack-data in /Users/siyuanzhao/anaconda3/envs/VDS/lib/python3.10/site-packages (from ipython>=6.1.0->ipywidgets>=7.6.0->anywidget) (0.2.0)\n",
            "Requirement already satisfied: pexpect>4.3 in /Users/siyuanzhao/anaconda3/envs/VDS/lib/python3.10/site-packages (from ipython>=6.1.0->ipywidgets>=7.6.0->anywidget) (4.8.0)\n",
            "Requirement already satisfied: MarkupSafe>=2.0 in /Users/siyuanzhao/anaconda3/envs/VDS/lib/python3.10/site-packages (from jinja2>=2.10.3->distributed->ome-zarr) (2.1.1)\n",
            "Requirement already satisfied: contourpy>=1.0.1 in /Users/siyuanzhao/anaconda3/envs/VDS/lib/python3.10/site-packages (from matplotlib>=3.6->scanpy>=1.9.3->vitessce) (1.2.0)\n",
            "Requirement already satisfied: cycler>=0.10 in /Users/siyuanzhao/anaconda3/envs/VDS/lib/python3.10/site-packages (from matplotlib>=3.6->scanpy>=1.9.3->vitessce) (0.12.1)\n",
            "Requirement already satisfied: fonttools>=4.22.0 in /Users/siyuanzhao/anaconda3/envs/VDS/lib/python3.10/site-packages (from matplotlib>=3.6->scanpy>=1.9.3->vitessce) (4.45.1)\n",
            "Requirement already satisfied: kiwisolver>=1.3.1 in /Users/siyuanzhao/anaconda3/envs/VDS/lib/python3.10/site-packages (from matplotlib>=3.6->scanpy>=1.9.3->vitessce) (1.4.5)\n",
            "Requirement already satisfied: pyparsing>=2.3.1 in /Users/siyuanzhao/anaconda3/envs/VDS/lib/python3.10/site-packages (from matplotlib>=3.6->scanpy>=1.9.3->vitessce) (3.1.1)\n",
            "Requirement already satisfied: llvmlite<0.43,>=0.42.0dev0 in /Users/siyuanzhao/anaconda3/envs/VDS/lib/python3.10/site-packages (from numba>=0.56->scanpy>=1.9.3->vitessce) (0.42.0)\n",
            "Requirement already satisfied: six>=1.5 in /Users/siyuanzhao/anaconda3/envs/VDS/lib/python3.10/site-packages (from python-dateutil>=2.8.2->pandas>=1.1.2->vitessce) (1.16.0)\n",
            "Requirement already satisfied: threadpoolctl>=2.0.0 in /Users/siyuanzhao/anaconda3/envs/VDS/lib/python3.10/site-packages (from scikit-learn>=0.24->scanpy>=1.9.3->vitessce) (3.2.0)\n",
            "Requirement already satisfied: aiobotocore<3.0.0,>=2.5.4 in /Users/siyuanzhao/anaconda3/envs/VDS/lib/python3.10/site-packages (from s3fs->fsspec[s3]!=2021.07.0,!=2023.09.0,>=0.8->ome-zarr) (2.13.0)\n",
            "Requirement already satisfied: stdlib-list in /Users/siyuanzhao/anaconda3/envs/VDS/lib/python3.10/site-packages (from session-info->scanpy>=1.9.3->vitessce) (0.10.0)\n",
            "Requirement already satisfied: botocore<1.34.107,>=1.34.70 in /Users/siyuanzhao/anaconda3/envs/VDS/lib/python3.10/site-packages (from aiobotocore<3.0.0,>=2.5.4->s3fs->fsspec[s3]!=2021.07.0,!=2023.09.0,>=0.8->ome-zarr) (1.34.106)\n",
            "Requirement already satisfied: wrapt<2.0.0,>=1.10.10 in /Users/siyuanzhao/anaconda3/envs/VDS/lib/python3.10/site-packages (from aiobotocore<3.0.0,>=2.5.4->s3fs->fsspec[s3]!=2021.07.0,!=2023.09.0,>=0.8->ome-zarr) (1.16.0)\n",
            "Requirement already satisfied: aioitertools<1.0.0,>=0.5.1 in /Users/siyuanzhao/anaconda3/envs/VDS/lib/python3.10/site-packages (from aiobotocore<3.0.0,>=2.5.4->s3fs->fsspec[s3]!=2021.07.0,!=2023.09.0,>=0.8->ome-zarr) (0.11.0)\n",
            "Requirement already satisfied: parso<0.9.0,>=0.8.0 in /Users/siyuanzhao/anaconda3/envs/VDS/lib/python3.10/site-packages (from jedi>=0.16->ipython>=6.1.0->ipywidgets>=7.6.0->anywidget) (0.8.3)\n",
            "Requirement already satisfied: ptyprocess>=0.5 in /Users/siyuanzhao/anaconda3/envs/VDS/lib/python3.10/site-packages (from pexpect>4.3->ipython>=6.1.0->ipywidgets>=7.6.0->anywidget) (0.7.0)\n",
            "Requirement already satisfied: wcwidth in /Users/siyuanzhao/anaconda3/envs/VDS/lib/python3.10/site-packages (from prompt-toolkit!=3.0.37,<3.1.0,>=3.0.30->ipython>=6.1.0->ipywidgets>=7.6.0->anywidget) (0.2.5)\n",
            "Requirement already satisfied: executing in /Users/siyuanzhao/anaconda3/envs/VDS/lib/python3.10/site-packages (from stack-data->ipython>=6.1.0->ipywidgets>=7.6.0->anywidget) (0.8.3)\n",
            "Requirement already satisfied: asttokens in /Users/siyuanzhao/anaconda3/envs/VDS/lib/python3.10/site-packages (from stack-data->ipython>=6.1.0->ipywidgets>=7.6.0->anywidget) (2.0.5)\n",
            "Requirement already satisfied: pure-eval in /Users/siyuanzhao/anaconda3/envs/VDS/lib/python3.10/site-packages (from stack-data->ipython>=6.1.0->ipywidgets>=7.6.0->anywidget) (0.2.2)\n",
            "Requirement already satisfied: jmespath<2.0.0,>=0.7.1 in /Users/siyuanzhao/anaconda3/envs/VDS/lib/python3.10/site-packages (from botocore<1.34.107,>=1.34.70->aiobotocore<3.0.0,>=2.5.4->s3fs->fsspec[s3]!=2021.07.0,!=2023.09.0,>=0.8->ome-zarr) (1.0.1)\n",
            "Note: you may need to restart the kernel to use updated packages.\n"
          ]
        }
      ],
      "source": [
        "pip install vitessce anywidget uvicorn starlette ome-zarr ome_types"
      ]
    },
    {
      "cell_type": "markdown",
      "metadata": {
        "id": "TlV6TGTmZMne"
      },
      "source": [
        "## Accessing the Data to create configurations"
      ]
    },
    {
      "cell_type": "code",
      "execution_count": 2,
      "metadata": {
        "id": "pg5yHrbIarFw"
      },
      "outputs": [],
      "source": [
        "import dask.array as da\n",
        "import zarr\n",
        "import requests\n",
        "import io\n",
        "from ome_zarr.io import parse_url\n",
        "import ome_types"
      ]
    },
    {
      "cell_type": "markdown",
      "metadata": {},
      "source": [
        "1. **Zarr** is a format for the storage of chunked, compressed, N-dimensional arrays\n",
        "2. **daskArray** is created using Dask, which is a parallel computing library that integrates with Python's existing libraries like NumPy. Here, da.from_zarr() loads data from the Zarr store into a Dask array. The component=\"3\" parameter likely specifies which part or subset of the Zarr data to load, perhaps referring to a specific variable or dataset within the Zarr hierarchy. The comment # t=0, high-res suggests that this component corresponds to a specific timepoint (t=0) and is high-resolution data."
      ]
    },
    {
      "cell_type": "code",
      "execution_count": 3,
      "metadata": {
        "colab": {
          "base_uri": "https://localhost:8080/",
          "height": 162
        },
        "id": "DEM2eXtOemAY",
        "outputId": "3cc9be9a-4ceb-4faa-9db5-4af5952786fb"
      },
      "outputs": [
        {
          "data": {
            "text/html": [
              "<table>\n",
              "    <tr>\n",
              "        <td>\n",
              "            <table style=\"border-collapse: collapse;\">\n",
              "                <thead>\n",
              "                    <tr>\n",
              "                        <td> </td>\n",
              "                        <th> Array </th>\n",
              "                        <th> Chunk </th>\n",
              "                    </tr>\n",
              "                </thead>\n",
              "                <tbody>\n",
              "                    \n",
              "                    <tr>\n",
              "                        <th> Bytes </th>\n",
              "                        <td> 23.72 GiB </td>\n",
              "                        <td> 1.34 MiB </td>\n",
              "                    </tr>\n",
              "                    \n",
              "                    <tr>\n",
              "                        <th> Shape </th>\n",
              "                        <td> (1, 70, 194, 688, 1363) </td>\n",
              "                        <td> (1, 1, 1, 688, 1024) </td>\n",
              "                    </tr>\n",
              "                    <tr>\n",
              "                        <th> Dask graph </th>\n",
              "                        <td colspan=\"2\"> 27160 chunks in 2 graph layers </td>\n",
              "                    </tr>\n",
              "                    <tr>\n",
              "                        <th> Data type </th>\n",
              "                        <td colspan=\"2\"> >u2 numpy.ndarray </td>\n",
              "                    </tr>\n",
              "                </tbody>\n",
              "            </table>\n",
              "        </td>\n",
              "        <td>\n",
              "        <svg width=\"401\" height=\"134\" style=\"stroke:rgb(0,0,0);stroke-width:1\" >\n",
              "\n",
              "  <!-- Horizontal lines -->\n",
              "  <line x1=\"0\" y1=\"0\" x2=\"34\" y2=\"0\" style=\"stroke-width:2\" />\n",
              "  <line x1=\"0\" y1=\"25\" x2=\"34\" y2=\"25\" style=\"stroke-width:2\" />\n",
              "\n",
              "  <!-- Vertical lines -->\n",
              "  <line x1=\"0\" y1=\"0\" x2=\"0\" y2=\"25\" style=\"stroke-width:2\" />\n",
              "  <line x1=\"0\" y1=\"0\" x2=\"0\" y2=\"25\" />\n",
              "  <line x1=\"1\" y1=\"0\" x2=\"1\" y2=\"25\" />\n",
              "  <line x1=\"2\" y1=\"0\" x2=\"2\" y2=\"25\" />\n",
              "  <line x1=\"3\" y1=\"0\" x2=\"3\" y2=\"25\" />\n",
              "  <line x1=\"4\" y1=\"0\" x2=\"4\" y2=\"25\" />\n",
              "  <line x1=\"6\" y1=\"0\" x2=\"6\" y2=\"25\" />\n",
              "  <line x1=\"7\" y1=\"0\" x2=\"7\" y2=\"25\" />\n",
              "  <line x1=\"8\" y1=\"0\" x2=\"8\" y2=\"25\" />\n",
              "  <line x1=\"9\" y1=\"0\" x2=\"9\" y2=\"25\" />\n",
              "  <line x1=\"10\" y1=\"0\" x2=\"10\" y2=\"25\" />\n",
              "  <line x1=\"11\" y1=\"0\" x2=\"11\" y2=\"25\" />\n",
              "  <line x1=\"12\" y1=\"0\" x2=\"12\" y2=\"25\" />\n",
              "  <line x1=\"13\" y1=\"0\" x2=\"13\" y2=\"25\" />\n",
              "  <line x1=\"14\" y1=\"0\" x2=\"14\" y2=\"25\" />\n",
              "  <line x1=\"15\" y1=\"0\" x2=\"15\" y2=\"25\" />\n",
              "  <line x1=\"17\" y1=\"0\" x2=\"17\" y2=\"25\" />\n",
              "  <line x1=\"18\" y1=\"0\" x2=\"18\" y2=\"25\" />\n",
              "  <line x1=\"19\" y1=\"0\" x2=\"19\" y2=\"25\" />\n",
              "  <line x1=\"20\" y1=\"0\" x2=\"20\" y2=\"25\" />\n",
              "  <line x1=\"21\" y1=\"0\" x2=\"21\" y2=\"25\" />\n",
              "  <line x1=\"22\" y1=\"0\" x2=\"22\" y2=\"25\" />\n",
              "  <line x1=\"23\" y1=\"0\" x2=\"23\" y2=\"25\" />\n",
              "  <line x1=\"24\" y1=\"0\" x2=\"24\" y2=\"25\" />\n",
              "  <line x1=\"25\" y1=\"0\" x2=\"25\" y2=\"25\" />\n",
              "  <line x1=\"26\" y1=\"0\" x2=\"26\" y2=\"25\" />\n",
              "  <line x1=\"27\" y1=\"0\" x2=\"27\" y2=\"25\" />\n",
              "  <line x1=\"29\" y1=\"0\" x2=\"29\" y2=\"25\" />\n",
              "  <line x1=\"30\" y1=\"0\" x2=\"30\" y2=\"25\" />\n",
              "  <line x1=\"31\" y1=\"0\" x2=\"31\" y2=\"25\" />\n",
              "  <line x1=\"32\" y1=\"0\" x2=\"32\" y2=\"25\" />\n",
              "  <line x1=\"33\" y1=\"0\" x2=\"33\" y2=\"25\" />\n",
              "  <line x1=\"34\" y1=\"0\" x2=\"34\" y2=\"25\" style=\"stroke-width:2\" />\n",
              "\n",
              "  <!-- Colored Rectangle -->\n",
              "  <polygon points=\"0.0,0.0 34.66494930269574,0.0 34.66494930269574,25.412616514582485 0.0,25.412616514582485\" style=\"fill:#8B4903A0;stroke-width:0\"/>\n",
              "\n",
              "  <!-- Text -->\n",
              "  <text x=\"17.332475\" y=\"45.412617\" font-size=\"1.0rem\" font-weight=\"100\" text-anchor=\"middle\" >70</text>\n",
              "  <text x=\"54.664949\" y=\"12.706308\" font-size=\"1.0rem\" font-weight=\"100\" text-anchor=\"middle\" transform=\"rotate(0,54.664949,12.706308)\">1</text>\n",
              "\n",
              "\n",
              "  <!-- Horizontal lines -->\n",
              "  <line x1=\"104\" y1=\"0\" x2=\"127\" y2=\"23\" style=\"stroke-width:2\" />\n",
              "  <line x1=\"104\" y1=\"60\" x2=\"127\" y2=\"84\" style=\"stroke-width:2\" />\n",
              "\n",
              "  <!-- Vertical lines -->\n",
              "  <line x1=\"104\" y1=\"0\" x2=\"104\" y2=\"60\" style=\"stroke-width:2\" />\n",
              "  <line x1=\"104\" y1=\"0\" x2=\"104\" y2=\"61\" />\n",
              "  <line x1=\"105\" y1=\"1\" x2=\"105\" y2=\"62\" />\n",
              "  <line x1=\"106\" y1=\"2\" x2=\"106\" y2=\"62\" />\n",
              "  <line x1=\"106\" y1=\"2\" x2=\"106\" y2=\"63\" />\n",
              "  <line x1=\"107\" y1=\"3\" x2=\"107\" y2=\"64\" />\n",
              "  <line x1=\"108\" y1=\"4\" x2=\"108\" y2=\"64\" />\n",
              "  <line x1=\"109\" y1=\"5\" x2=\"109\" y2=\"65\" />\n",
              "  <line x1=\"109\" y1=\"5\" x2=\"109\" y2=\"66\" />\n",
              "  <line x1=\"110\" y1=\"6\" x2=\"110\" y2=\"67\" />\n",
              "  <line x1=\"111\" y1=\"7\" x2=\"111\" y2=\"67\" />\n",
              "  <line x1=\"112\" y1=\"8\" x2=\"112\" y2=\"68\" />\n",
              "  <line x1=\"112\" y1=\"8\" x2=\"112\" y2=\"69\" />\n",
              "  <line x1=\"113\" y1=\"9\" x2=\"113\" y2=\"70\" />\n",
              "  <line x1=\"114\" y1=\"10\" x2=\"114\" y2=\"70\" />\n",
              "  <line x1=\"115\" y1=\"11\" x2=\"115\" y2=\"71\" />\n",
              "  <line x1=\"115\" y1=\"11\" x2=\"115\" y2=\"72\" />\n",
              "  <line x1=\"116\" y1=\"12\" x2=\"116\" y2=\"73\" />\n",
              "  <line x1=\"117\" y1=\"13\" x2=\"117\" y2=\"73\" />\n",
              "  <line x1=\"118\" y1=\"14\" x2=\"118\" y2=\"74\" />\n",
              "  <line x1=\"118\" y1=\"14\" x2=\"118\" y2=\"75\" />\n",
              "  <line x1=\"119\" y1=\"15\" x2=\"119\" y2=\"76\" />\n",
              "  <line x1=\"120\" y1=\"16\" x2=\"120\" y2=\"76\" />\n",
              "  <line x1=\"121\" y1=\"17\" x2=\"121\" y2=\"77\" />\n",
              "  <line x1=\"121\" y1=\"17\" x2=\"121\" y2=\"78\" />\n",
              "  <line x1=\"122\" y1=\"18\" x2=\"122\" y2=\"79\" />\n",
              "  <line x1=\"123\" y1=\"19\" x2=\"123\" y2=\"79\" />\n",
              "  <line x1=\"123\" y1=\"19\" x2=\"123\" y2=\"80\" />\n",
              "  <line x1=\"124\" y1=\"20\" x2=\"124\" y2=\"81\" />\n",
              "  <line x1=\"125\" y1=\"21\" x2=\"125\" y2=\"82\" />\n",
              "  <line x1=\"126\" y1=\"22\" x2=\"126\" y2=\"82\" />\n",
              "  <line x1=\"126\" y1=\"22\" x2=\"126\" y2=\"83\" />\n",
              "  <line x1=\"127\" y1=\"23\" x2=\"127\" y2=\"84\" style=\"stroke-width:2\" />\n",
              "\n",
              "  <!-- Colored Rectangle -->\n",
              "  <polygon points=\"104.0,0.0 127.79431627014685,23.79431627014685 127.79431627014685,84.36658332810723 104.0,60.57226705796038\" style=\"fill:#8B4903A0;stroke-width:0\"/>\n",
              "\n",
              "  <!-- Horizontal lines -->\n",
              "  <line x1=\"104\" y1=\"0\" x2=\"224\" y2=\"0\" style=\"stroke-width:2\" />\n",
              "  <line x1=\"104\" y1=\"0\" x2=\"224\" y2=\"0\" />\n",
              "  <line x1=\"105\" y1=\"1\" x2=\"225\" y2=\"1\" />\n",
              "  <line x1=\"106\" y1=\"2\" x2=\"226\" y2=\"2\" />\n",
              "  <line x1=\"106\" y1=\"2\" x2=\"226\" y2=\"2\" />\n",
              "  <line x1=\"107\" y1=\"3\" x2=\"227\" y2=\"3\" />\n",
              "  <line x1=\"108\" y1=\"4\" x2=\"228\" y2=\"4\" />\n",
              "  <line x1=\"109\" y1=\"5\" x2=\"229\" y2=\"5\" />\n",
              "  <line x1=\"109\" y1=\"5\" x2=\"229\" y2=\"5\" />\n",
              "  <line x1=\"110\" y1=\"6\" x2=\"230\" y2=\"6\" />\n",
              "  <line x1=\"111\" y1=\"7\" x2=\"231\" y2=\"7\" />\n",
              "  <line x1=\"112\" y1=\"8\" x2=\"232\" y2=\"8\" />\n",
              "  <line x1=\"112\" y1=\"8\" x2=\"232\" y2=\"8\" />\n",
              "  <line x1=\"113\" y1=\"9\" x2=\"233\" y2=\"9\" />\n",
              "  <line x1=\"114\" y1=\"10\" x2=\"234\" y2=\"10\" />\n",
              "  <line x1=\"115\" y1=\"11\" x2=\"235\" y2=\"11\" />\n",
              "  <line x1=\"115\" y1=\"11\" x2=\"235\" y2=\"11\" />\n",
              "  <line x1=\"116\" y1=\"12\" x2=\"236\" y2=\"12\" />\n",
              "  <line x1=\"117\" y1=\"13\" x2=\"237\" y2=\"13\" />\n",
              "  <line x1=\"118\" y1=\"14\" x2=\"238\" y2=\"14\" />\n",
              "  <line x1=\"118\" y1=\"14\" x2=\"238\" y2=\"14\" />\n",
              "  <line x1=\"119\" y1=\"15\" x2=\"239\" y2=\"15\" />\n",
              "  <line x1=\"120\" y1=\"16\" x2=\"240\" y2=\"16\" />\n",
              "  <line x1=\"121\" y1=\"17\" x2=\"241\" y2=\"17\" />\n",
              "  <line x1=\"121\" y1=\"17\" x2=\"241\" y2=\"17\" />\n",
              "  <line x1=\"122\" y1=\"18\" x2=\"242\" y2=\"18\" />\n",
              "  <line x1=\"123\" y1=\"19\" x2=\"243\" y2=\"19\" />\n",
              "  <line x1=\"123\" y1=\"19\" x2=\"243\" y2=\"19\" />\n",
              "  <line x1=\"124\" y1=\"20\" x2=\"244\" y2=\"20\" />\n",
              "  <line x1=\"125\" y1=\"21\" x2=\"245\" y2=\"21\" />\n",
              "  <line x1=\"126\" y1=\"22\" x2=\"246\" y2=\"22\" />\n",
              "  <line x1=\"126\" y1=\"22\" x2=\"246\" y2=\"22\" />\n",
              "  <line x1=\"127\" y1=\"23\" x2=\"247\" y2=\"23\" style=\"stroke-width:2\" />\n",
              "\n",
              "  <!-- Vertical lines -->\n",
              "  <line x1=\"104\" y1=\"0\" x2=\"127\" y2=\"23\" style=\"stroke-width:2\" />\n",
              "  <line x1=\"194\" y1=\"0\" x2=\"217\" y2=\"23\" />\n",
              "  <line x1=\"224\" y1=\"0\" x2=\"247\" y2=\"23\" style=\"stroke-width:2\" />\n",
              "\n",
              "  <!-- Colored Rectangle -->\n",
              "  <polygon points=\"104.0,0.0 224.0,0.0 247.79431627014685,23.79431627014685 127.79431627014685,23.79431627014685\" style=\"fill:#8B4903A0;stroke-width:0\"/>\n",
              "\n",
              "  <!-- Horizontal lines -->\n",
              "  <line x1=\"127\" y1=\"23\" x2=\"247\" y2=\"23\" style=\"stroke-width:2\" />\n",
              "  <line x1=\"127\" y1=\"84\" x2=\"247\" y2=\"84\" style=\"stroke-width:2\" />\n",
              "\n",
              "  <!-- Vertical lines -->\n",
              "  <line x1=\"127\" y1=\"23\" x2=\"127\" y2=\"84\" style=\"stroke-width:2\" />\n",
              "  <line x1=\"217\" y1=\"23\" x2=\"217\" y2=\"84\" />\n",
              "  <line x1=\"247\" y1=\"23\" x2=\"247\" y2=\"84\" style=\"stroke-width:2\" />\n",
              "\n",
              "  <!-- Colored Rectangle -->\n",
              "  <polygon points=\"127.79431627014685,23.79431627014685 247.79431627014685,23.79431627014685 247.79431627014685,84.36658332810723 127.79431627014685,84.36658332810723\" style=\"fill:#ECB172A0;stroke-width:0\"/>\n",
              "\n",
              "  <!-- Text -->\n",
              "  <text x=\"187.794316\" y=\"104.366583\" font-size=\"1.0rem\" font-weight=\"100\" text-anchor=\"middle\" >1363</text>\n",
              "  <text x=\"267.794316\" y=\"54.080450\" font-size=\"1.0rem\" font-weight=\"100\" text-anchor=\"middle\" transform=\"rotate(-90,267.794316,54.080450)\">688</text>\n",
              "  <text x=\"105.897158\" y=\"92.469425\" font-size=\"1.0rem\" font-weight=\"100\" text-anchor=\"middle\" transform=\"rotate(45,105.897158,92.469425)\">194</text>\n",
              "</svg>\n",
              "        </td>\n",
              "    </tr>\n",
              "</table>"
            ],
            "text/plain": [
              "dask.array<from-zarr, shape=(1, 70, 194, 688, 1363), dtype=>u2, chunksize=(1, 1, 1, 688, 1024), chunktype=numpy.ndarray>"
            ]
          },
          "execution_count": 3,
          "metadata": {},
          "output_type": "execute_result"
        }
      ],
      "source": [
        "path = \"https://lsp-public-data.s3.amazonaws.com/yapp-2023-3d-melanoma/Dataset1-LSP13626-melanoma-in-situ/0\"\n",
        "root = parse_url(path, mode=\"w\")\n",
        "store = root.store\n",
        "daskArray = da.from_zarr(store, component=\"3\") # t=0, high-res\n",
        "daskArray"
      ]
    },
    {
      "cell_type": "markdown",
      "metadata": {},
      "source": [
        "1. likely imaging data given the context of melanoma research\n",
        "2. ```channel_names = [c.name for c in ome_xml.images[0].pixels.channels]```  \n",
        "This line uses a list comprehension to iterate through the channels of the first image's pixels object in the parsed ome_xml data structure. Each channel often represents different data streams (like different dyes in microscopy), and c.name is used to get the name of each channel. The result is a list of channel names."
      ]
    },
    {
      "cell_type": "code",
      "execution_count": 4,
      "metadata": {
        "colab": {
          "base_uri": "https://localhost:8080/"
        },
        "id": "Pr9vDrr3mTqx",
        "outputId": "8974db0e-8a27-4f99-b3ef-e4c05443e15c"
      },
      "outputs": [
        {
          "data": {
            "text/plain": [
              "['Hoechst',\n",
              " \"5'hmC\",\n",
              " 'MX1',\n",
              " 'MART1',\n",
              " 'Hoechst',\n",
              " 'CD3E (do not use)',\n",
              " 'MHC-I',\n",
              " 'SOX10',\n",
              " 'Hoechst',\n",
              " 'S100B',\n",
              " 'MITF',\n",
              " 'GranzymeB (do not use)',\n",
              " 'Hoechst',\n",
              " 'pan-cytokeratin',\n",
              " 'lamin-ABC',\n",
              " 'PDL1',\n",
              " 'Hoechst',\n",
              " 'PD1 (do not use)',\n",
              " 'S100A',\n",
              " 'CD31',\n",
              " 'Hoechst',\n",
              " 'CD206',\n",
              " 'pMLC2',\n",
              " 'CD11b (do not use)',\n",
              " 'Hoechst',\n",
              " 'CD4',\n",
              " 'LAG3',\n",
              " 'CD20',\n",
              " 'Hoechst',\n",
              " 'PRAME',\n",
              " 'CD163',\n",
              " 'IRF1',\n",
              " 'Hoechst',\n",
              " 'B-catenin',\n",
              " 'CD3E',\n",
              " 'CD8a',\n",
              " 'Hoechst',\n",
              " 'CD11b',\n",
              " 'FOXP3',\n",
              " 'PD1',\n",
              " 'Hoechst',\n",
              " 'Ki67',\n",
              " 'CD11c',\n",
              " 'COX-IV',\n",
              " 'Hoechst',\n",
              " 'LysozymeC',\n",
              " 'SOX9',\n",
              " 'PMEL',\n",
              " 'CD103',\n",
              " 'Hoechst',\n",
              " 'CyclinD1',\n",
              " 'BAF1',\n",
              " 'Hoechst',\n",
              " 'B-actin',\n",
              " 'Mast cell tryptase',\n",
              " 'CD15',\n",
              " 'Podoplanin',\n",
              " 'Hoechst',\n",
              " 'B-tubulin',\n",
              " 'Catalase',\n",
              " 'y-H2AX',\n",
              " 'Hoechst',\n",
              " 'E-cadherin',\n",
              " 'Vimentin',\n",
              " 'Neurofilament L (do not use)',\n",
              " 'GranzymeB',\n",
              " 'Hoechst',\n",
              " 'MHC-II',\n",
              " 'H3K27me3',\n",
              " 'Collagen (SHG)']"
            ]
          },
          "execution_count": 4,
          "metadata": {},
          "output_type": "execute_result"
        }
      ],
      "source": [
        "import requests\n",
        "response = requests.get(\"https://lsp-public-data.s3.amazonaws.com/yapp-2023-3d-melanoma/Dataset1-LSP13626-melanoma-in-situ/OME/METADATA.ome.xml\")\n",
        "data = response.text\n",
        "ome_xml = ome_types.from_xml(response.text.replace(\"Â\",\"\"))\n",
        "channel_names = [c.name for c in ome_xml.images[0].pixels.channels]\n",
        "# Listing all the Channels in the Volume(total 70 channels)\n",
        "channel_names"
      ]
    },
    {
      "cell_type": "code",
      "execution_count": 5,
      "metadata": {
        "colab": {
          "base_uri": "https://localhost:8080/"
        },
        "id": "W0qZSMuopjZ7",
        "outputId": "7c42e5a5-f57d-4f33-d747-2825b9b3ef4f"
      },
      "outputs": [
        {
          "data": {
            "text/plain": [
              "(0.13999999999999999, 0.14, 0.28)"
            ]
          },
          "execution_count": 5,
          "metadata": {},
          "output_type": "execute_result"
        }
      ],
      "source": [
        "# Reading the Physical Size of the Sample\n",
        "ome_xml.images[0].pixels.physical_size_x, ome_xml.images[0].pixels.physical_size_y, ome_xml.images[0].pixels.physical_size_z"
      ]
    },
    {
      "cell_type": "code",
      "execution_count": 6,
      "metadata": {
        "colab": {
          "base_uri": "https://localhost:8080/"
        },
        "id": "zfBBFGDGo2jY",
        "outputId": "1c46bdc2-9822-4c2e-f59a-07f8b3559240"
      },
      "outputs": [
        {
          "data": {
            "text/plain": [
              "(194, 688, 1363)"
            ]
          },
          "execution_count": 6,
          "metadata": {},
          "output_type": "execute_result"
        }
      ],
      "source": [
        "# Getting the data from Channel CD31:\n",
        "data = daskArray[0,19,:,:,:].compute()\n",
        "data.shape"
      ]
    },
    {
      "cell_type": "markdown",
      "metadata": {
        "id": "aTSeMlreTuNH"
      },
      "source": [
        "# Visualization of volumetric imaging data\n"
      ]
    },
    {
      "cell_type": "markdown",
      "metadata": {
        "id": "Y1CupRheCGiD"
      },
      "source": [
        "Importing the necessary libraries:"
      ]
    },
    {
      "cell_type": "code",
      "execution_count": 7,
      "metadata": {
        "id": "ORptAfVHTuNI"
      },
      "outputs": [],
      "source": [
        "from vitessce import (\n",
        "    VitessceConfig,\n",
        "    CoordinationLevel as CL,\n",
        "    get_initial_coordination_scope_prefix,\n",
        ")\n",
        "from os.path import join\n",
        "import ipywidgets"
      ]
    },
    {
      "cell_type": "markdown",
      "metadata": {
        "id": "lc0hKIOeTuNJ"
      },
      "source": [
        "## Getting a first view of the Data:"
      ]
    },
    {
      "cell_type": "code",
      "execution_count": 8,
      "metadata": {
        "colab": {
          "base_uri": "https://localhost:8080/",
          "height": 617,
          "referenced_widgets": [
            "476675052b7a479294763b982ff02faa",
            "27f566cab72a4b09928f93b872f2854f"
          ]
        },
        "id": "YXm1eQVNAuo0",
        "outputId": "af33c0ba-a375-4cf7-ae06-8d8012367ef9"
      },
      "outputs": [
        {
          "data": {
            "application/vnd.jupyter.widget-view+json": {
              "model_id": "a5db36f0bbd3457397a183314ebf98d2",
              "version_major": 2,
              "version_minor": 1
            },
            "text/plain": [
              "VitessceWidget(config={'version': '1.0.16', 'name': 'BioMedVis Challenge', 'description': '', 'datasets': [{'u…"
            ]
          },
          "execution_count": 8,
          "metadata": {},
          "output_type": "execute_result"
        }
      ],
      "source": [
        "vc = VitessceConfig(schema_version=\"1.0.16\", name=\"BioMedVis Challenge\")\n",
        "dataset = vc.add_dataset(name=\"Blood Vessel\", uid=\"bv\").add_file(\n",
        "    url=\"https://lsp-public-data.s3.amazonaws.com/yapp-2023-3d-melanoma/Dataset1-LSP13626-melanoma-in-situ/0\",\n",
        "    file_type=\"image.ome-zarr\"\n",
        ")\n",
        "\n",
        "spatial = vc.add_view(\"spatialBeta\", dataset=dataset)\n",
        "lc = vc.add_view(\"layerControllerBeta\", dataset=dataset)\n",
        "\n",
        "#Spatial Target X,Y,Z are used for translating the viewpoint to a certain point in the volume\n",
        "#These coordiantes are given in the best resolution level\n",
        "vc.link_views_by_dict([spatial, lc], {\n",
        "    \"spatialTargetZ\": 0,\n",
        "    \"spatialTargetT\": 0,\n",
        "    \"spatialZoom\": -3.54,\n",
        "    \"spatialTargetX\": 5230,\n",
        "    \"spatialTargetY\": 2880,\n",
        "    \"spatialTargetZ\": 0,\n",
        "    \"spatialRenderingMode\": \"3D\",\n",
        "    \"imageLayer\": CL([\n",
        "      {\n",
        "        \"spatialTargetResolution\": 3,\n",
        "        \"spatialLayerOpacity\": 1.0,\n",
        "        \"spatialLayerVisible\": True,\n",
        "        \"photometricInterpretation\": \"BlackIsZero\",\n",
        "        \"imageChannel\": CL([\n",
        "          {\n",
        "            \"spatialTargetC\": 0,\n",
        "            \"spatialChannelColor\": [255, 255,255],\n",
        "            \"spatialChannelVisible\": True,\n",
        "            \"spatialChannelOpacity\": 1.0,\n",
        "          }])\n",
        "      }\n",
        "    ])\n",
        "}, meta=True, scope_prefix=get_initial_coordination_scope_prefix(\"bv\", \"image\"))\n",
        "\n",
        "vc.layout(spatial | lc);\n",
        "vw = vc.widget(js_package_version=\"3.4.5\", remount_on_uid_change=False)\n",
        "vw"
      ]
    },
    {
      "cell_type": "markdown",
      "metadata": {
        "id": "GxUTC6DnCA9A"
      },
      "source": [
        "# Visualizing Regions of Interest (ROI)"
      ]
    },
    {
      "cell_type": "markdown",
      "metadata": {
        "id": "0qifNu8JAyjE"
      },
      "source": [
        "Based on the prior analysis we can define a viewpoint showing an area of interest based on prior analysis in: https://doi.org/10.1101/2023.11.10.566670"
      ]
    },
    {
      "cell_type": "markdown",
      "metadata": {},
      "source": [
        "```\n",
        "vc.link_views_by_dict([spatial, lc], {\n",
        "    # Multiple settings for targeting and visual attributes...\n",
        "}, meta=True, scope_prefix=get_initial_coordination_scope_prefix(\"bv\", \"image\"))\n",
        "```\n",
        "This section links the spatial and layer controller views and sets various parameters such as targeting coordinates (spatialTargetX, spatialTargetY, spatialTargetZ), zoom level (spatialZoom), rendering mode (spatialRenderingMode), and characteristics of different channels in the image data (like color, visibility, opacity, and window for channel adjustment)."
      ]
    },
    {
      "cell_type": "code",
      "execution_count": 9,
      "metadata": {
        "colab": {
          "base_uri": "https://localhost:8080/",
          "height": 617,
          "referenced_widgets": [
            "47a72f73a83946cd9a0712939b8b8661",
            "28d4247cb0f54571ab529a078bd0eb69"
          ]
        },
        "id": "66g2o2I2TuNJ",
        "outputId": "ec2c7cd9-ee2e-4bf9-e266-b6f98355e6a0"
      },
      "outputs": [
        {
          "data": {
            "application/vnd.jupyter.widget-view+json": {
              "model_id": "ed4234d716444c7c90c3ca531efcb797",
              "version_major": 2,
              "version_minor": 1
            },
            "text/plain": [
              "VitessceWidget(config={'version': '1.0.16', 'name': 'BioMedVis Challenge', 'description': '', 'datasets': [{'u…"
            ]
          },
          "execution_count": 9,
          "metadata": {},
          "output_type": "execute_result"
        }
      ],
      "source": [
        "vc = VitessceConfig(schema_version=\"1.0.16\", name=\"BioMedVis Challenge\")\n",
        "dataset = vc.add_dataset(name=\"Blood Vessel\", uid=\"bv\").add_file(\n",
        "    url=\"https://lsp-public-data.s3.amazonaws.com/yapp-2023-3d-melanoma/Dataset1-LSP13626-melanoma-in-situ/0\",\n",
        "    file_type=\"image.ome-zarr\"\n",
        ")\n",
        "\n",
        "spatial = vc.add_view(\"spatialBeta\", dataset=dataset)\n",
        "lc = vc.add_view(\"layerControllerBeta\", dataset=dataset)\n",
        "\n",
        "#Spatial Target X,Y,Z are used for translating the viewpoint to a certain point in the volume\n",
        "#These coordiantes are given in the best resolution level\n",
        "vc.link_views_by_dict([spatial, lc], {\n",
        "    \"spatialTargetZ\": 0,\n",
        "    \"spatialTargetT\": 0,\n",
        "    \"spatialZoom\": -1.1,\n",
        "    \"spatialTargetX\": 2914,\n",
        "    \"spatialTargetY\": 1267,\n",
        "    \"spatialTargetZ\": 0,\n",
        "    \"spatialRenderingMode\": \"3D\",\n",
        "    \"imageLayer\": CL([\n",
        "      {\n",
        "        \"spatialTargetResolution\": 3,\n",
        "        \"spatialLayerOpacity\": 1.0,\n",
        "        \"spatialLayerVisible\": True,\n",
        "        \"photometricInterpretation\": \"BlackIsZero\",\n",
        "        \"imageChannel\": CL([\n",
        "          {\n",
        "            \"spatialTargetC\": 9,\n",
        "            \"spatialChannelColor\": [255, 125, 0],\n",
        "            \"spatialChannelVisible\": True,\n",
        "            \"spatialChannelOpacity\": 1.0,\n",
        "            \"spatialChannelWindow\": [0,9486]\n",
        "          },\n",
        "          {\n",
        "            \"spatialTargetC\": 19,\n",
        "            \"spatialChannelColor\": [0, 255, 0],\n",
        "            \"spatialChannelVisible\": True,\n",
        "            \"spatialChannelOpacity\": 1.0,\n",
        "            \"spatialChannelWindow\": [666,21313]\n",
        "          },\n",
        "          {\n",
        "            \"spatialTargetC\": 69,\n",
        "            \"spatialChannelColor\": [255, 255, 0],\n",
        "            \"spatialChannelVisible\": True,\n",
        "            \"spatialChannelOpacity\": 1.0,\n",
        "            \"spatialChannelWindow\": [6,34]\n",
        "          },\n",
        "          {\n",
        "            \"spatialTargetC\": 21,\n",
        "            \"spatialChannelColor\": [255, 0, 0],\n",
        "            \"spatialChannelVisible\": True,\n",
        "            \"spatialChannelOpacity\": 1.0,\n",
        "            \"spatialChannelWindow\": [1638,36287]\n",
        "          },\n",
        "        ]),\n",
        "      }\n",
        "    ])\n",
        "}, meta=True, scope_prefix=get_initial_coordination_scope_prefix(\"bv\", \"image\"))\n",
        "\n",
        "vc.layout(spatial | lc);\n",
        "\n",
        "vw = vc.widget(js_package_version=\"3.4.5\", remount_on_uid_change=False)\n",
        "vw"
      ]
    },
    {
      "cell_type": "code",
      "execution_count": 10,
      "metadata": {
        "colab": {
          "base_uri": "https://localhost:8080/",
          "height": 617,
          "referenced_widgets": [
            "997ef751881c47fabb9c08edf19721c8",
            "7a0a373e64084cb78805328108a76974"
          ]
        },
        "id": "tDTgkRMFGjca",
        "outputId": "f18911d1-b8c5-4353-ae34-a46dc2c7ad5a"
      },
      "outputs": [
        {
          "data": {
            "application/vnd.jupyter.widget-view+json": {
              "model_id": "d63de8bcb4f04ba3ba548731072c1cce",
              "version_major": 2,
              "version_minor": 1
            },
            "text/plain": [
              "VitessceWidget(config={'version': '1.0.16', 'name': 'BioMedVis Challenge', 'description': '', 'datasets': [{'u…"
            ]
          },
          "execution_count": 10,
          "metadata": {},
          "output_type": "execute_result"
        }
      ],
      "source": [
        "vc = VitessceConfig(schema_version=\"1.0.16\", name=\"BioMedVis Challenge\")\n",
        "dataset = vc.add_dataset(name=\"Blood Vessel\", uid=\"bv\").add_file(\n",
        "    url=\"https://lsp-public-data.s3.amazonaws.com/yapp-2023-3d-melanoma/Dataset1-LSP13626-melanoma-in-situ/0\",\n",
        "    file_type=\"image.ome-zarr\"\n",
        ")\n",
        "\n",
        "spatial = vc.add_view(\"spatialBeta\", dataset=dataset)\n",
        "lc = vc.add_view(\"layerControllerBeta\", dataset=dataset)\n",
        "\n",
        "#Spatial Target X,Y,Z are used for translating the viewpoint to a certain point in the volume\n",
        "#These coordiantes are given in the best resolution level\n",
        "vc.link_views_by_dict([spatial, lc], {\n",
        "    \"spatialTargetZ\": 0,\n",
        "    \"spatialTargetT\": 0,\n",
        "    \"spatialZoom\":  -1.91661,\n",
        "    \"spatialTargetX\": 5254,\n",
        "    \"spatialTargetY\": 2834,\n",
        "    \"spatialTargetZ\": 0,\n",
        "    \"spatialRenderingMode\": \"3D\",\n",
        "    \"imageLayer\": CL([\n",
        "      {\n",
        "        \"spatialTargetResolution\": 3,\n",
        "        \"spatialLayerOpacity\": 1.0,\n",
        "        \"spatialLayerVisible\": True,\n",
        "        \"photometricInterpretation\": \"BlackIsZero\",\n",
        "        \"imageChannel\": CL([\n",
        "          {\n",
        "            \"spatialTargetC\": 9,\n",
        "            \"spatialChannelColor\": [255, 125,0],\n",
        "            \"spatialChannelVisible\": True,\n",
        "            \"spatialChannelOpacity\": 1.0,\n",
        "            \"spatialChannelWindow\": [0,9486]\n",
        "          },\n",
        "          {\n",
        "            \"spatialTargetC\": 19,\n",
        "            \"spatialChannelColor\": [0, 0,255],\n",
        "            \"spatialChannelVisible\": True,\n",
        "            \"spatialChannelOpacity\": 1.0,\n",
        "            \"spatialChannelWindow\": [888,6882]\n",
        "          },\n",
        "          {\n",
        "            \"spatialTargetC\": 69,\n",
        "            \"spatialChannelColor\": [255, 255, 0],\n",
        "            \"spatialChannelVisible\": True,\n",
        "            \"spatialChannelOpacity\": 1.0,\n",
        "            \"spatialChannelWindow\": [6,34]\n",
        "          },\n",
        "          {\n",
        "            \"spatialTargetC\": 21,\n",
        "            \"spatialChannelColor\": [255, 0,0],\n",
        "            \"spatialChannelVisible\": True,\n",
        "            \"spatialChannelOpacity\": 1.0,\n",
        "            \"spatialChannelWindow\": [0,6552]\n",
        "          },\n",
        "          {\n",
        "            \"spatialTargetC\": 29,\n",
        "            \"spatialChannelColor\": [255,0,255],\n",
        "            \"spatialChannelVisible\": True,\n",
        "            \"spatialChannelOpacity\": 1.0,\n",
        "            \"spatialChannelWindow\": [475,2983]\n",
        "          },\n",
        "          {\n",
        "            \"spatialTargetC\": 3,\n",
        "            \"spatialChannelColor\": [0, 255,0],\n",
        "            \"spatialChannelVisible\": True,\n",
        "            \"spatialChannelOpacity\": 1.0,\n",
        "            \"spatialChannelWindow\": [1287,14825]\n",
        "          },\n",
        "        ]),\n",
        "      }\n",
        "    ])\n",
        "}, meta=True, scope_prefix=get_initial_coordination_scope_prefix(\"bv\", \"image\"))\n",
        "\n",
        "vc.layout(spatial | lc);\n",
        "vw = vc.widget(js_package_version=\"3.4.5\", remount_on_uid_change=False)\n",
        "vw"
      ]
    },
    {
      "cell_type": "markdown",
      "metadata": {
        "id": "XPQt_AS1BEzk"
      },
      "source": [
        "# Reading Visualization Parameters:"
      ]
    },
    {
      "cell_type": "code",
      "execution_count": 11,
      "metadata": {
        "colab": {
          "base_uri": "https://localhost:8080/"
        },
        "id": "8NsrGQ49Z72Y",
        "outputId": "0187a869-a85f-4557-cc27-7eb1fcc79691"
      },
      "outputs": [
        {
          "data": {
            "text/plain": [
              "{'init_bv_image_0': 5254}"
            ]
          },
          "execution_count": 11,
          "metadata": {},
          "output_type": "execute_result"
        }
      ],
      "source": [
        "vw.config[\"coordinationSpace\"][\"spatialTargetX\"]"
      ]
    },
    {
      "cell_type": "code",
      "execution_count": 12,
      "metadata": {
        "colab": {
          "base_uri": "https://localhost:8080/"
        },
        "id": "RvPDrfneaBUj",
        "outputId": "f7f6d04f-2c27-4fff-954c-f217c9ac948b"
      },
      "outputs": [
        {
          "data": {
            "text/plain": [
              "{'init_bv_image_0': 2834}"
            ]
          },
          "execution_count": 12,
          "metadata": {},
          "output_type": "execute_result"
        }
      ],
      "source": [
        "vw.config[\"coordinationSpace\"][\"spatialTargetY\"]"
      ]
    },
    {
      "cell_type": "code",
      "execution_count": 13,
      "metadata": {
        "colab": {
          "base_uri": "https://localhost:8080/"
        },
        "id": "D9_nORLcaCs1",
        "outputId": "19386f0e-542b-4e80-ced1-9401edd0ce68"
      },
      "outputs": [
        {
          "data": {
            "text/plain": [
              "{'init_bv_image_0': 0}"
            ]
          },
          "execution_count": 13,
          "metadata": {},
          "output_type": "execute_result"
        }
      ],
      "source": [
        "vw.config[\"coordinationSpace\"][\"spatialTargetZ\"]"
      ]
    },
    {
      "cell_type": "code",
      "execution_count": 14,
      "metadata": {
        "colab": {
          "base_uri": "https://localhost:8080/"
        },
        "id": "wZ5JRkVhaDgG",
        "outputId": "587a8894-a4c5-48e8-cde5-43814efce28a"
      },
      "outputs": [
        {
          "data": {
            "text/plain": [
              "{'init_bv_image_0': -1.91661}"
            ]
          },
          "execution_count": 14,
          "metadata": {},
          "output_type": "execute_result"
        }
      ],
      "source": [
        "vw.config[\"coordinationSpace\"][\"spatialZoom\"]"
      ]
    },
    {
      "cell_type": "code",
      "execution_count": 15,
      "metadata": {},
      "outputs": [
        {
          "data": {
            "text/plain": [
              "{'dataset': {'A': 'bv'},\n",
              " 'spatialTargetZ': {'init_bv_image_0': 0},\n",
              " 'spatialTargetT': {'init_bv_image_0': 0},\n",
              " 'spatialZoom': {'init_bv_image_0': -1.91661},\n",
              " 'spatialTargetX': {'init_bv_image_0': 5254},\n",
              " 'spatialTargetY': {'init_bv_image_0': 2834},\n",
              " 'spatialRenderingMode': {'init_bv_image_0': '3D'},\n",
              " 'imageLayer': {'init_bv_image_0': '__dummy__'},\n",
              " 'spatialTargetResolution': {'init_bv_image_0': 3},\n",
              " 'spatialLayerOpacity': {'init_bv_image_0': 1.0},\n",
              " 'spatialLayerVisible': {'init_bv_image_0': True},\n",
              " 'photometricInterpretation': {'init_bv_image_0': 'BlackIsZero'},\n",
              " 'imageChannel': {'init_bv_image_0': '__dummy__',\n",
              "  'init_bv_image_1': '__dummy__',\n",
              "  'init_bv_image_2': '__dummy__',\n",
              "  'init_bv_image_3': '__dummy__',\n",
              "  'init_bv_image_4': '__dummy__',\n",
              "  'init_bv_image_5': '__dummy__'},\n",
              " 'spatialTargetC': {'init_bv_image_0': 9,\n",
              "  'init_bv_image_1': 19,\n",
              "  'init_bv_image_2': 69,\n",
              "  'init_bv_image_3': 21,\n",
              "  'init_bv_image_4': 29,\n",
              "  'init_bv_image_5': 3},\n",
              " 'spatialChannelColor': {'init_bv_image_0': [255, 125, 0],\n",
              "  'init_bv_image_1': [0, 0, 255],\n",
              "  'init_bv_image_2': [255, 255, 0],\n",
              "  'init_bv_image_3': [255, 0, 0],\n",
              "  'init_bv_image_4': [255, 0, 255],\n",
              "  'init_bv_image_5': [0, 255, 0]},\n",
              " 'spatialChannelVisible': {'init_bv_image_0': True,\n",
              "  'init_bv_image_1': True,\n",
              "  'init_bv_image_2': True,\n",
              "  'init_bv_image_3': True,\n",
              "  'init_bv_image_4': True,\n",
              "  'init_bv_image_5': True},\n",
              " 'spatialChannelOpacity': {'init_bv_image_0': 1.0,\n",
              "  'init_bv_image_1': 1.0,\n",
              "  'init_bv_image_2': 1.0,\n",
              "  'init_bv_image_3': 1.0,\n",
              "  'init_bv_image_4': 1.0,\n",
              "  'init_bv_image_5': 1.0},\n",
              " 'spatialChannelWindow': {'init_bv_image_0': [0, 9486],\n",
              "  'init_bv_image_1': [888, 6882],\n",
              "  'init_bv_image_2': [6, 34],\n",
              "  'init_bv_image_3': [0, 6552],\n",
              "  'init_bv_image_4': [475, 2983],\n",
              "  'init_bv_image_5': [1287, 14825]},\n",
              " 'metaCoordinationScopes': {'init_bv_image_0': {'spatialTargetZ': 'init_bv_image_0',\n",
              "   'spatialTargetT': 'init_bv_image_0',\n",
              "   'spatialZoom': 'init_bv_image_0',\n",
              "   'spatialTargetX': 'init_bv_image_0',\n",
              "   'spatialTargetY': 'init_bv_image_0',\n",
              "   'spatialRenderingMode': 'init_bv_image_0',\n",
              "   'imageLayer': ['init_bv_image_0']}},\n",
              " 'metaCoordinationScopesBy': {'init_bv_image_0': {'imageLayer': {'spatialTargetResolution': {'init_bv_image_0': 'init_bv_image_0'},\n",
              "    'spatialLayerOpacity': {'init_bv_image_0': 'init_bv_image_0'},\n",
              "    'spatialLayerVisible': {'init_bv_image_0': 'init_bv_image_0'},\n",
              "    'photometricInterpretation': {'init_bv_image_0': 'init_bv_image_0'},\n",
              "    'imageChannel': {'init_bv_image_0': ['init_bv_image_0',\n",
              "      'init_bv_image_1',\n",
              "      'init_bv_image_2',\n",
              "      'init_bv_image_3',\n",
              "      'init_bv_image_4',\n",
              "      'init_bv_image_5']}},\n",
              "   'imageChannel': {'spatialTargetC': {'init_bv_image_0': 'init_bv_image_0',\n",
              "     'init_bv_image_1': 'init_bv_image_1',\n",
              "     'init_bv_image_2': 'init_bv_image_2',\n",
              "     'init_bv_image_3': 'init_bv_image_3',\n",
              "     'init_bv_image_4': 'init_bv_image_4',\n",
              "     'init_bv_image_5': 'init_bv_image_5'},\n",
              "    'spatialChannelColor': {'init_bv_image_0': 'init_bv_image_0',\n",
              "     'init_bv_image_1': 'init_bv_image_1',\n",
              "     'init_bv_image_2': 'init_bv_image_2',\n",
              "     'init_bv_image_3': 'init_bv_image_3',\n",
              "     'init_bv_image_4': 'init_bv_image_4',\n",
              "     'init_bv_image_5': 'init_bv_image_5'},\n",
              "    'spatialChannelVisible': {'init_bv_image_0': 'init_bv_image_0',\n",
              "     'init_bv_image_1': 'init_bv_image_1',\n",
              "     'init_bv_image_2': 'init_bv_image_2',\n",
              "     'init_bv_image_3': 'init_bv_image_3',\n",
              "     'init_bv_image_4': 'init_bv_image_4',\n",
              "     'init_bv_image_5': 'init_bv_image_5'},\n",
              "    'spatialChannelOpacity': {'init_bv_image_0': 'init_bv_image_0',\n",
              "     'init_bv_image_1': 'init_bv_image_1',\n",
              "     'init_bv_image_2': 'init_bv_image_2',\n",
              "     'init_bv_image_3': 'init_bv_image_3',\n",
              "     'init_bv_image_4': 'init_bv_image_4',\n",
              "     'init_bv_image_5': 'init_bv_image_5'},\n",
              "    'spatialChannelWindow': {'init_bv_image_0': 'init_bv_image_0',\n",
              "     'init_bv_image_1': 'init_bv_image_1',\n",
              "     'init_bv_image_2': 'init_bv_image_2',\n",
              "     'init_bv_image_3': 'init_bv_image_3',\n",
              "     'init_bv_image_4': 'init_bv_image_4',\n",
              "     'init_bv_image_5': 'init_bv_image_5'}}}}}"
            ]
          },
          "execution_count": 15,
          "metadata": {},
          "output_type": "execute_result"
        }
      ],
      "source": [
        "vw.config[\"coordinationSpace\"]"
      ]
    }
  ],
  "metadata": {
    "colab": {
      "collapsed_sections": [
        "pZ0NXwtIZGW2",
        "TlV6TGTmZMne"
      ],
      "provenance": []
    },
    "kernelspec": {
      "display_name": "Python 3 (ipykernel)",
      "language": "python",
      "name": "python3"
    },
    "language_info": {
      "codemirror_mode": {
        "name": "ipython",
        "version": 3
      },
      "file_extension": ".py",
      "mimetype": "text/x-python",
      "name": "python",
      "nbconvert_exporter": "python",
      "pygments_lexer": "ipython3",
      "version": "3.1.undefined"
    },
    "widgets": {
      "application/vnd.jupyter.widget-state+json": {
        "27f566cab72a4b09928f93b872f2854f": {
          "model_module": "@jupyter-widgets/base",
          "model_module_version": "1.2.0",
          "model_name": "LayoutModel",
          "state": {
            "_model_module": "@jupyter-widgets/base",
            "_model_module_version": "1.2.0",
            "_model_name": "LayoutModel",
            "_view_count": null,
            "_view_module": "@jupyter-widgets/base",
            "_view_module_version": "1.2.0",
            "_view_name": "LayoutView",
            "align_content": null,
            "align_items": null,
            "align_self": null,
            "border": null,
            "bottom": null,
            "display": null,
            "flex": null,
            "flex_flow": null,
            "grid_area": null,
            "grid_auto_columns": null,
            "grid_auto_flow": null,
            "grid_auto_rows": null,
            "grid_column": null,
            "grid_gap": null,
            "grid_row": null,
            "grid_template_areas": null,
            "grid_template_columns": null,
            "grid_template_rows": null,
            "height": null,
            "justify_content": null,
            "justify_items": null,
            "left": null,
            "margin": null,
            "max_height": null,
            "max_width": null,
            "min_height": null,
            "min_width": null,
            "object_fit": null,
            "object_position": null,
            "order": null,
            "overflow": null,
            "overflow_x": null,
            "overflow_y": null,
            "padding": null,
            "right": null,
            "top": null,
            "visibility": null,
            "width": null
          }
        },
        "28d4247cb0f54571ab529a078bd0eb69": {
          "model_module": "@jupyter-widgets/base",
          "model_module_version": "1.2.0",
          "model_name": "LayoutModel",
          "state": {
            "_model_module": "@jupyter-widgets/base",
            "_model_module_version": "1.2.0",
            "_model_name": "LayoutModel",
            "_view_count": null,
            "_view_module": "@jupyter-widgets/base",
            "_view_module_version": "1.2.0",
            "_view_name": "LayoutView",
            "align_content": null,
            "align_items": null,
            "align_self": null,
            "border": null,
            "bottom": null,
            "display": null,
            "flex": null,
            "flex_flow": null,
            "grid_area": null,
            "grid_auto_columns": null,
            "grid_auto_flow": null,
            "grid_auto_rows": null,
            "grid_column": null,
            "grid_gap": null,
            "grid_row": null,
            "grid_template_areas": null,
            "grid_template_columns": null,
            "grid_template_rows": null,
            "height": null,
            "justify_content": null,
            "justify_items": null,
            "left": null,
            "margin": null,
            "max_height": null,
            "max_width": null,
            "min_height": null,
            "min_width": null,
            "object_fit": null,
            "object_position": null,
            "order": null,
            "overflow": null,
            "overflow_x": null,
            "overflow_y": null,
            "padding": null,
            "right": null,
            "top": null,
            "visibility": null,
            "width": null
          }
        },
        "476675052b7a479294763b982ff02faa": {
          "model_module": "anywidget",
          "model_module_version": "~0.9.*",
          "model_name": "AnyModel",
          "state": {
            "_anywidget_id": "vitessce.widget.VitessceWidget",
            "_dom_classes": [],
            "_esm": "\nimport { importWithMap } from 'https://unpkg.com/dynamic-importmap@0.1.0';\nconst importMap = {\n  imports: {\n    \"react\": \"https://esm.sh/react@18.2.0?dev\",\n    \"react-dom\": \"https://esm.sh/react-dom@18.2.0?dev\",\n    \"react-dom/client\": \"https://esm.sh/react-dom@18.2.0/client?dev\",\n  },\n};\n\nconst React = await importWithMap(\"react\", importMap);\nconst { createRoot } = await importWithMap(\"react-dom/client\", importMap);\n\nconst e = React.createElement;\n\nconst prefersDark = window.matchMedia && window.matchMedia('(prefers-color-scheme: dark)').matches;\n\n// The jupyter server may be running through a proxy,\n// which means that the client needs to prepend the part of the URL before /proxy/8000 such as\n// https://hub.gke2.mybinder.org/user/vitessce-vitessce-python-swi31vcv/proxy/8000/A/0/cells\nfunction prependBaseUrl(config, proxy, hasHostName) {\n  if(!proxy || hasHostName) {\n    return config;\n  }\n  const { origin } = new URL(window.location.href);\n  let baseUrl;\n  const jupyterLabConfigEl = document.getElementById('jupyter-config-data');\n\n  if (jupyterLabConfigEl) {\n    // This is jupyter lab\n    baseUrl = JSON.parse(jupyterLabConfigEl.textContent || '').baseUrl;\n  } else {\n    // This is jupyter notebook\n    baseUrl = document.getElementsByTagName('body')[0].getAttribute('data-base-url');\n  }\n  return {\n    ...config,\n    datasets: config.datasets.map(d => ({\n      ...d,\n      files: d.files.map(f => ({\n        ...f,\n        url: `${origin}${baseUrl}${f.url}`,\n      })),\n    })),\n  };\n}\n\nasync function render(view) {\n    const cssUid = view.model.get('uid');\n    const jsDevMode = view.model.get('js_dev_mode');\n    const jsPackageVersion = view.model.get('js_package_version');\n    const customJsUrl = view.model.get('custom_js_url');\n    const pluginEsm = view.model.get('plugin_esm');\n    const remountOnUidChange = view.model.get('remount_on_uid_change');\n    const storeUrls = view.model.get('store_urls');\n\n    const pkgName = (jsDevMode ? \"@vitessce/dev\" : \"vitessce\");\n\n    importMap.imports[\"vitessce\"] = (customJsUrl.length > 0\n        ? customJsUrl\n        : `https://unpkg.com/${pkgName}@${jsPackageVersion}`\n    );\n\n    const {\n        Vitessce,\n        PluginFileType,\n        PluginViewType,\n        PluginCoordinationType,\n        PluginJointFileType,\n        z,\n        useCoordination,\n    } = await importWithMap(\"vitessce\", importMap);\n\n    let pluginViewTypes;\n    let pluginCoordinationTypes;\n    let pluginFileTypes;\n    let pluginJointFileTypes;\n\n    const stores = Object.fromEntries(\n        storeUrls.map(storeUrl => ([\n            storeUrl,\n            {\n                async get(key) {\n                    const [data, buffers] = await view.experimental.invoke(\"_zarr_get\", [storeUrl, key]);\n                    if (!data.success) return undefined;\n                    return buffers[0].buffer;\n                },\n            }\n        ])),\n    );\n\n    try {\n        const pluginEsmUrl = URL.createObjectURL(new Blob([pluginEsm], { type: \"text/javascript\" }));\n        const pluginModule = (await import(pluginEsmUrl)).default;\n        URL.revokeObjectURL(pluginEsmUrl);\n\n        const pluginsObj = await pluginModule.createPlugins({\n            React,\n            PluginFileType,\n            PluginViewType,\n            PluginCoordinationType,\n            PluginJointFileType,\n            z,\n            useCoordination,\n        });\n        pluginViewTypes = pluginsObj.pluginViewTypes;\n        pluginCoordinationTypes = pluginsObj.pluginCoordinationTypes;\n        pluginFileTypes = pluginsObj.pluginFileTypes;\n        pluginJointFileTypes = pluginsObj.pluginJointFileTypes;\n    } catch(e) {\n        console.error(e);\n    }\n\n    function VitessceWidget(props) {\n        const { model } = props;\n\n        const [config, setConfig] = React.useState(prependBaseUrl(model.get('config'), model.get('proxy'), model.get('has_host_name')));\n        const [validateConfig, setValidateConfig] = React.useState(true);\n        const height = model.get('height');\n        const theme = model.get('theme') === 'auto' ? (prefersDark ? 'dark' : 'light') : model.get('theme');\n\n        const divRef = React.useRef();\n\n        React.useEffect(() => {\n            if(!divRef.current) {\n                return () => {};\n            }\n\n            function handleMouseEnter() {\n                const jpn = divRef.current.closest('.jp-Notebook');\n                if(jpn) {\n                    jpn.style.overflow = \"hidden\";\n                }\n            }\n            function handleMouseLeave(event) {\n                if(event.relatedTarget === null || (event.relatedTarget && event.relatedTarget.closest('.jp-Notebook')?.length)) return;\n                const jpn = divRef.current.closest('.jp-Notebook');\n                if(jpn) {\n                    jpn.style.overflow = \"auto\";\n                }\n            }\n            divRef.current.addEventListener(\"mouseenter\", handleMouseEnter);\n            divRef.current.addEventListener(\"mouseleave\", handleMouseLeave);\n\n            return () => {\n                if(divRef.current) {\n                    divRef.current.removeEventListener(\"mouseenter\", handleMouseEnter);\n                    divRef.current.removeEventListener(\"mouseleave\", handleMouseLeave);\n                }\n            };\n        }, [divRef]);\n\n        // Config changed on JS side (from within <Vitessce/>),\n        // send updated config to Python side.\n        const onConfigChange = React.useCallback((config) => {\n            model.set('config', config);\n            setValidateConfig(false);\n            model.save_changes();\n        }, [model]);\n\n        // Config changed on Python side,\n        // pass to <Vitessce/> component to it is updated on JS side.\n        React.useEffect(() => {\n            model.on('change:config', () => {\n                const newConfig = prependBaseUrl(model.get('config'), model.get('proxy'), model.get('has_host_name'));\n\n                // Force a re-render and re-validation by setting a new config.uid value.\n                // TODO: make this conditional on a parameter from Python.\n                //newConfig.uid = `random-${Math.random()}`;\n                //console.log('newConfig', newConfig);\n                setConfig(newConfig);\n            });\n        }, []);\n\n        const vitessceProps = {\n            height, theme, config, onConfigChange, validateConfig,\n            pluginViewTypes, pluginCoordinationTypes, pluginFileTypes, pluginJointFileTypes,\n            remountOnUidChange, stores,\n        };\n\n        return e('div', { ref: divRef, style: { height: height + 'px' } },\n            e(React.Suspense, { fallback: e('div', {}, 'Loading...') },\n                e(React.StrictMode, {},\n                    e(Vitessce, vitessceProps)\n                ),\n            ),\n        );\n    }\n\n    const root = createRoot(view.el);\n    root.render(e(VitessceWidget, { model: view.model }));\n\n    return () => {\n        // Re-enable scrolling.\n        const jpn = view.el.closest('.jp-Notebook');\n        if(jpn) {\n            jpn.style.overflow = \"auto\";\n        }\n\n        // Clean up React and DOM state.\n        root.unmount();\n        if(view._isFromDisplay) {\n            view.el.remove();\n        }\n    };\n}\nexport default { render };\n",
            "_model_module": "anywidget",
            "_model_module_version": "~0.9.*",
            "_model_name": "AnyModel",
            "_view_count": null,
            "_view_module": "anywidget",
            "_view_module_version": "~0.9.*",
            "_view_name": "AnyView",
            "config": {
              "coordinationSpace": {
                "additionalObsSets": {
                  "A": null
                },
                "dataset": {
                  "A": "bv",
                  "init_bv_image_0": "init_bv_image_0"
                },
                "featureHighlight": {
                  "A": null
                },
                "featureSelection": {
                  "A": null
                },
                "featureType": {
                  "A": "gene"
                },
                "featureValueColormap": {
                  "A": "plasma"
                },
                "featureValueColormapRange": {
                  "A": [
                    0,
                    1
                  ]
                },
                "featureValueType": {
                  "A": "expression"
                },
                "fileUid": {
                  "A": null,
                  "init_bv_image_0": null
                },
                "imageChannel": {
                  "A": null,
                  "init_bv_image_0": "__dummy__",
                  "init_bv_image_1": "__dummy__",
                  "init_bv_image_2": "__dummy__",
                  "init_bv_image_3": "__dummy__",
                  "init_bv_image_4": "__dummy__"
                },
                "imageLayer": {
                  "A": null,
                  "init_bv_image_0": "__dummy__"
                },
                "legendVisible": {
                  "A": true
                },
                "metaCoordinationScopes": {
                  "init_bv_image_0": {
                    "imageLayer": [
                      "init_bv_image_0"
                    ],
                    "spatialImageLayer": "init_bv_image_0",
                    "spatialRenderingMode": "init_bv_image_0",
                    "spatialTargetT": "init_bv_image_0",
                    "spatialTargetX": "init_bv_image_0",
                    "spatialTargetY": "init_bv_image_0",
                    "spatialTargetZ": "init_bv_image_0",
                    "spatialZoom": "init_bv_image_0"
                  }
                },
                "metaCoordinationScopesBy": {
                  "init_bv_image_0": {
                    "imageChannel": {
                      "spatialChannelColor": {
                        "init_bv_image_0": "init_bv_image_0",
                        "init_bv_image_1": "init_bv_image_1",
                        "init_bv_image_2": "init_bv_image_2",
                        "init_bv_image_3": "init_bv_image_3",
                        "init_bv_image_4": "init_bv_image_4"
                      },
                      "spatialChannelOpacity": {
                        "init_bv_image_0": "init_bv_image_0",
                        "init_bv_image_1": "init_bv_image_1",
                        "init_bv_image_2": "init_bv_image_2",
                        "init_bv_image_3": "init_bv_image_3",
                        "init_bv_image_4": "init_bv_image_4"
                      },
                      "spatialChannelVisible": {
                        "init_bv_image_0": "init_bv_image_0",
                        "init_bv_image_1": "init_bv_image_1",
                        "init_bv_image_2": "init_bv_image_2",
                        "init_bv_image_3": "init_bv_image_3",
                        "init_bv_image_4": "init_bv_image_4"
                      },
                      "spatialChannelWindow": {
                        "init_bv_image_0": "init_bv_image_0",
                        "init_bv_image_1": "init_bv_image_1",
                        "init_bv_image_2": "init_bv_image_2",
                        "init_bv_image_3": "init_bv_image_3",
                        "init_bv_image_4": "init_bv_image_4"
                      },
                      "spatialTargetC": {
                        "init_bv_image_0": "init_bv_image_0",
                        "init_bv_image_1": "init_bv_image_1",
                        "init_bv_image_2": "init_bv_image_2",
                        "init_bv_image_3": "init_bv_image_3",
                        "init_bv_image_4": "init_bv_image_4"
                      }
                    },
                    "imageLayer": {
                      "fileUid": {
                        "init_bv_image_0": "init_bv_image_0"
                      },
                      "imageChannel": {
                        "init_bv_image_0": [
                          "init_bv_image_0"
                        ]
                      },
                      "photometricInterpretation": {
                        "init_bv_image_0": "init_bv_image_0"
                      },
                      "spatialLayerOpacity": {
                        "init_bv_image_0": "init_bv_image_0"
                      },
                      "spatialLayerVisible": {
                        "init_bv_image_0": "init_bv_image_0"
                      },
                      "spatialTargetResolution": {
                        "init_bv_image_0": "init_bv_image_0"
                      },
                      "volumetricRenderingAlgorithm": {
                        "init_bv_image_0": "init_bv_image_0"
                      }
                    }
                  }
                },
                "moleculeHighlight": {
                  "A": null
                },
                "obsColorEncoding": {
                  "A": "cellSetSelection"
                },
                "obsFilter": {
                  "A": null
                },
                "obsHighlight": {
                  "A": null
                },
                "obsLabelsType": {
                  "A": null
                },
                "obsSetColor": {
                  "A": null
                },
                "obsSetHighlight": {
                  "A": null
                },
                "obsSetSelection": {
                  "A": null
                },
                "obsType": {
                  "A": "cell"
                },
                "photometricInterpretation": {
                  "A": null,
                  "init_bv_image_0": "BlackIsZero"
                },
                "pixelHighlight": {
                  "A": null
                },
                "pointLayer": {
                  "A": null
                },
                "segmentationChannel": {
                  "A": null
                },
                "segmentationLayer": {
                  "A": null
                },
                "spatialAxisFixed": {
                  "A": false
                },
                "spatialChannelColor": {
                  "A": [
                    255,
                    255,
                    255
                  ],
                  "init_bv_image_0": [
                    255,
                    255,
                    255
                  ],
                  "init_bv_image_1": [
                    0,
                    255,
                    0
                  ],
                  "init_bv_image_2": [
                    255,
                    151,
                    0
                  ],
                  "init_bv_image_3": [
                    0,
                    158,
                    0
                  ],
                  "init_bv_image_4": [
                    255,
                    255,
                    255
                  ]
                },
                "spatialChannelLabelSize": {
                  "A": 14
                },
                "spatialChannelLabelsOrientation": {
                  "A": "vertical"
                },
                "spatialChannelLabelsVisible": {
                  "A": true
                },
                "spatialChannelOpacity": {
                  "A": 1,
                  "init_bv_image_0": 1,
                  "init_bv_image_1": 1,
                  "init_bv_image_2": 1,
                  "init_bv_image_3": 1,
                  "init_bv_image_4": 1
                },
                "spatialChannelVisible": {
                  "A": true,
                  "init_bv_image_0": true,
                  "init_bv_image_1": true,
                  "init_bv_image_2": true,
                  "init_bv_image_3": true,
                  "init_bv_image_4": true
                },
                "spatialChannelWindow": {
                  "A": null,
                  "init_bv_image_0": [
                    0,
                    34199
                  ],
                  "init_bv_image_1": [
                    0,
                    39023
                  ],
                  "init_bv_image_2": [
                    0,
                    34477
                  ],
                  "init_bv_image_3": [
                    0,
                    35333
                  ],
                  "init_bv_image_4": [
                    0,
                    33595
                  ]
                },
                "spatialImageLayer": {
                  "init_bv_image_0": [
                    {
                      "channels": [
                        {
                          "color": [
                            255,
                            0,
                            0
                          ],
                          "selection": {
                            "c": 0,
                            "t": 0,
                            "z": 97
                          },
                          "slider": [
                            0,
                            34199
                          ],
                          "visible": true
                        },
                        {
                          "color": [
                            0,
                            255,
                            0
                          ],
                          "selection": {
                            "c": 1,
                            "t": 0,
                            "z": 97
                          },
                          "slider": [
                            0,
                            39023
                          ],
                          "visible": true
                        },
                        {
                          "color": [
                            255,
                            151,
                            0
                          ],
                          "selection": {
                            "c": 2,
                            "t": 0,
                            "z": 97
                          },
                          "slider": [
                            0,
                            34477
                          ],
                          "visible": true
                        },
                        {
                          "color": [
                            0,
                            158,
                            0
                          ],
                          "selection": {
                            "c": 3,
                            "t": 0,
                            "z": 97
                          },
                          "slider": [
                            0,
                            35333
                          ],
                          "visible": true
                        }
                      ],
                      "colormap": null,
                      "domainType": "Min/Max",
                      "index": 0,
                      "modelMatrix": [
                        0.13999999999999999,
                        0,
                        0,
                        0,
                        0,
                        0.14,
                        0,
                        0,
                        0,
                        0,
                        0.28,
                        0,
                        0,
                        0,
                        0,
                        1
                      ],
                      "opacity": 1,
                      "renderingMode": "Additive",
                      "transparentColor": null,
                      "type": "raster",
                      "use3d": false,
                      "visible": true
                    }
                  ]
                },
                "spatialLayerColor": {
                  "A": null
                },
                "spatialLayerColormap": {
                  "A": null
                },
                "spatialLayerModelMatrix": {
                  "A": null
                },
                "spatialLayerOpacity": {
                  "A": 1,
                  "init_bv_image_0": 1
                },
                "spatialLayerTransparentColor": {
                  "A": null
                },
                "spatialLayerVisible": {
                  "A": true,
                  "init_bv_image_0": true
                },
                "spatialNeighborhoodLayer": {
                  "A": null
                },
                "spatialOrbitAxis": {
                  "A": "Y"
                },
                "spatialPointLayer": {
                  "A": null
                },
                "spatialRenderingMode": {
                  "A": "2D",
                  "init_bv_image_0": "3D"
                },
                "spatialRotation": {
                  "A": 0
                },
                "spatialRotationOrbit": {
                  "A": 0
                },
                "spatialRotationX": {
                  "A": 0
                },
                "spatialRotationY": {
                  "A": 0
                },
                "spatialRotationZ": {
                  "A": 0
                },
                "spatialSegmentationFilled": {
                  "A": true
                },
                "spatialSegmentationStrokeWidth": {
                  "A": 1
                },
                "spatialSliceX": {
                  "A": null
                },
                "spatialSliceY": {
                  "A": null
                },
                "spatialSliceZ": {
                  "A": null
                },
                "spatialSpotFilled": {
                  "A": true
                },
                "spatialSpotRadius": {
                  "A": 25
                },
                "spatialSpotStrokeWidth": {
                  "A": 1
                },
                "spatialTargetC": {
                  "A": null,
                  "init_bv_image_0": 0,
                  "init_bv_image_1": 1,
                  "init_bv_image_2": 2,
                  "init_bv_image_3": 3,
                  "init_bv_image_4": 4
                },
                "spatialTargetResolution": {
                  "A": 0,
                  "init_bv_image_0": 3
                },
                "spatialTargetT": {
                  "A": null,
                  "init_bv_image_0": 0
                },
                "spatialTargetX": {
                  "A": null,
                  "init_bv_image_0": 5230
                },
                "spatialTargetY": {
                  "A": null,
                  "init_bv_image_0": 2880
                },
                "spatialTargetZ": {
                  "A": null,
                  "B": null,
                  "init_bv_image_0": 0
                },
                "spatialZoom": {
                  "A": null,
                  "init_bv_image_0": -3.54
                },
                "spotLayer": {
                  "A": null
                },
                "tooltipCrosshairsVisible": {
                  "A": true
                },
                "tooltipsVisible": {
                  "A": true
                },
                "volumetricRenderingAlgorithm": {
                  "A": "additive",
                  "init_bv_image_0": "maximumIntensityProjection"
                }
              },
              "datasets": [
                {
                  "files": [
                    {
                      "fileType": "image.ome-zarr",
                      "url": "https://lsp-public-data.s3.amazonaws.com/yapp-2023-3d-melanoma/Dataset1-LSP13626-melanoma-in-situ/0"
                    }
                  ],
                  "name": "Blood Vessel",
                  "uid": "bv"
                }
              ],
              "description": "",
              "initStrategy": "auto",
              "layout": [
                {
                  "component": "spatialBeta",
                  "coordinationScopes": {
                    "additionalObsSets": "A",
                    "dataset": "A",
                    "featureHighlight": "A",
                    "featureSelection": "A",
                    "featureType": "A",
                    "featureValueColormap": "A",
                    "featureValueColormapRange": "A",
                    "featureValueType": "A",
                    "fileUid": "A",
                    "imageChannel": "A",
                    "imageLayer": "A",
                    "legendVisible": "A",
                    "metaCoordinationScopes": [
                      "init_bv_image_0",
                      "init_bv_image_0"
                    ],
                    "metaCoordinationScopesBy": [
                      "init_bv_image_0",
                      "init_bv_image_0"
                    ],
                    "moleculeHighlight": "A",
                    "obsColorEncoding": "A",
                    "obsFilter": "A",
                    "obsHighlight": "A",
                    "obsLabelsType": "A",
                    "obsSetColor": "A",
                    "obsSetHighlight": "A",
                    "obsSetSelection": "A",
                    "obsType": "A",
                    "pixelHighlight": "A",
                    "pointLayer": "A",
                    "segmentationChannel": "A",
                    "segmentationLayer": "A",
                    "spatialAxisFixed": "A",
                    "spatialChannelColor": "A",
                    "spatialChannelLabelSize": "A",
                    "spatialChannelLabelsOrientation": "A",
                    "spatialChannelLabelsVisible": "A",
                    "spatialChannelOpacity": "A",
                    "spatialChannelVisible": "A",
                    "spatialChannelWindow": "A",
                    "spatialLayerColor": "A",
                    "spatialLayerColormap": "A",
                    "spatialLayerModelMatrix": "A",
                    "spatialLayerOpacity": "A",
                    "spatialLayerTransparentColor": "A",
                    "spatialLayerVisible": "A",
                    "spatialNeighborhoodLayer": "A",
                    "spatialOrbitAxis": "A",
                    "spatialPointLayer": "A",
                    "spatialRenderingMode": "A",
                    "spatialRotation": "A",
                    "spatialRotationOrbit": "A",
                    "spatialRotationX": "A",
                    "spatialRotationY": "A",
                    "spatialRotationZ": "A",
                    "spatialSegmentationFilled": "A",
                    "spatialSegmentationStrokeWidth": "A",
                    "spatialSliceX": "A",
                    "spatialSliceY": "A",
                    "spatialSliceZ": "A",
                    "spatialSpotFilled": "A",
                    "spatialSpotRadius": "A",
                    "spatialSpotStrokeWidth": "A",
                    "spatialTargetC": "A",
                    "spatialTargetResolution": "A",
                    "spatialTargetT": "A",
                    "spatialTargetX": "A",
                    "spatialTargetY": "A",
                    "spatialTargetZ": "A",
                    "spatialZoom": "A",
                    "spotLayer": "A",
                    "tooltipCrosshairsVisible": "A",
                    "tooltipsVisible": "A",
                    "volumetricRenderingAlgorithm": "A"
                  },
                  "h": 12,
                  "uid": "A",
                  "w": 6,
                  "x": 0,
                  "y": 0
                },
                {
                  "component": "layerControllerBeta",
                  "coordinationScopes": {
                    "dataset": "A",
                    "featureSelection": "A",
                    "featureType": "A",
                    "featureValueColormap": "A",
                    "featureValueColormapRange": "A",
                    "featureValueType": "A",
                    "fileUid": "A",
                    "imageChannel": "A",
                    "imageLayer": "A",
                    "legendVisible": "A",
                    "metaCoordinationScopes": [
                      "init_bv_image_0",
                      "init_bv_image_0"
                    ],
                    "metaCoordinationScopesBy": [
                      "init_bv_image_0",
                      "init_bv_image_0"
                    ],
                    "obsColorEncoding": "A",
                    "obsType": "A",
                    "photometricInterpretation": "A",
                    "pointLayer": "A",
                    "segmentationChannel": "A",
                    "segmentationLayer": "A",
                    "spatialChannelColor": "A",
                    "spatialChannelLabelSize": "A",
                    "spatialChannelLabelsOrientation": "A",
                    "spatialChannelLabelsVisible": "A",
                    "spatialChannelOpacity": "A",
                    "spatialChannelVisible": "A",
                    "spatialChannelWindow": "A",
                    "spatialLayerColor": "A",
                    "spatialLayerColormap": "A",
                    "spatialLayerModelMatrix": "A",
                    "spatialLayerOpacity": "A",
                    "spatialLayerTransparentColor": "A",
                    "spatialLayerVisible": "A",
                    "spatialNeighborhoodLayer": "A",
                    "spatialOrbitAxis": "A",
                    "spatialPointLayer": "A",
                    "spatialRenderingMode": "A",
                    "spatialRotationOrbit": "A",
                    "spatialRotationX": "A",
                    "spatialRotationY": "A",
                    "spatialRotationZ": "A",
                    "spatialSegmentationFilled": "A",
                    "spatialSegmentationStrokeWidth": "A",
                    "spatialSliceX": "A",
                    "spatialSliceY": "A",
                    "spatialSliceZ": "A",
                    "spatialSpotFilled": "A",
                    "spatialSpotRadius": "A",
                    "spatialSpotStrokeWidth": "A",
                    "spatialTargetC": "A",
                    "spatialTargetResolution": "A",
                    "spatialTargetT": "A",
                    "spatialTargetX": "A",
                    "spatialTargetY": "A",
                    "spatialTargetZ": "A",
                    "spatialZoom": "A",
                    "spotLayer": "A",
                    "tooltipCrosshairsVisible": "A",
                    "tooltipsVisible": "A",
                    "volumetricRenderingAlgorithm": "A"
                  },
                  "h": 12,
                  "uid": "B",
                  "w": 6,
                  "x": 6,
                  "y": 0
                }
              ],
              "name": "BioMedVis Challenge",
              "uid": "A",
              "version": "1.0.16"
            },
            "custom_js_url": "",
            "has_host_name": false,
            "height": 600,
            "js_dev_mode": false,
            "js_package_version": "3.4.5",
            "layout": "IPY_MODEL_27f566cab72a4b09928f93b872f2854f",
            "plugin_esm": "\nfunction createPlugins(utilsForPlugins) {\n    const {\n        React,\n        PluginFileType,\n        PluginViewType,\n        PluginCoordinationType,\n        PluginJointFileType,\n        z,\n        useCoordination,\n    } = utilsForPlugins;\n    return {\n        pluginViewTypes: undefined,\n        pluginFileTypes: undefined,\n        pluginCoordinationTypes: undefined,\n        pluginJointFileTypes: undefined,\n    };\n}\nexport default { createPlugins };\n",
            "proxy": false,
            "remount_on_uid_change": false,
            "store_urls": [],
            "theme": "auto",
            "uid": "a0e3"
          }
        },
        "47a72f73a83946cd9a0712939b8b8661": {
          "model_module": "anywidget",
          "model_module_version": "~0.9.*",
          "model_name": "AnyModel",
          "state": {
            "_anywidget_id": "vitessce.widget.VitessceWidget",
            "_dom_classes": [],
            "_esm": "\nimport { importWithMap } from 'https://unpkg.com/dynamic-importmap@0.1.0';\nconst importMap = {\n  imports: {\n    \"react\": \"https://esm.sh/react@18.2.0?dev\",\n    \"react-dom\": \"https://esm.sh/react-dom@18.2.0?dev\",\n    \"react-dom/client\": \"https://esm.sh/react-dom@18.2.0/client?dev\",\n  },\n};\n\nconst React = await importWithMap(\"react\", importMap);\nconst { createRoot } = await importWithMap(\"react-dom/client\", importMap);\n\nconst e = React.createElement;\n\nconst prefersDark = window.matchMedia && window.matchMedia('(prefers-color-scheme: dark)').matches;\n\n// The jupyter server may be running through a proxy,\n// which means that the client needs to prepend the part of the URL before /proxy/8000 such as\n// https://hub.gke2.mybinder.org/user/vitessce-vitessce-python-swi31vcv/proxy/8000/A/0/cells\nfunction prependBaseUrl(config, proxy, hasHostName) {\n  if(!proxy || hasHostName) {\n    return config;\n  }\n  const { origin } = new URL(window.location.href);\n  let baseUrl;\n  const jupyterLabConfigEl = document.getElementById('jupyter-config-data');\n\n  if (jupyterLabConfigEl) {\n    // This is jupyter lab\n    baseUrl = JSON.parse(jupyterLabConfigEl.textContent || '').baseUrl;\n  } else {\n    // This is jupyter notebook\n    baseUrl = document.getElementsByTagName('body')[0].getAttribute('data-base-url');\n  }\n  return {\n    ...config,\n    datasets: config.datasets.map(d => ({\n      ...d,\n      files: d.files.map(f => ({\n        ...f,\n        url: `${origin}${baseUrl}${f.url}`,\n      })),\n    })),\n  };\n}\n\nasync function render(view) {\n    const cssUid = view.model.get('uid');\n    const jsDevMode = view.model.get('js_dev_mode');\n    const jsPackageVersion = view.model.get('js_package_version');\n    const customJsUrl = view.model.get('custom_js_url');\n    const pluginEsm = view.model.get('plugin_esm');\n    const remountOnUidChange = view.model.get('remount_on_uid_change');\n    const storeUrls = view.model.get('store_urls');\n\n    const pkgName = (jsDevMode ? \"@vitessce/dev\" : \"vitessce\");\n\n    importMap.imports[\"vitessce\"] = (customJsUrl.length > 0\n        ? customJsUrl\n        : `https://unpkg.com/${pkgName}@${jsPackageVersion}`\n    );\n\n    const {\n        Vitessce,\n        PluginFileType,\n        PluginViewType,\n        PluginCoordinationType,\n        PluginJointFileType,\n        z,\n        useCoordination,\n    } = await importWithMap(\"vitessce\", importMap);\n\n    let pluginViewTypes;\n    let pluginCoordinationTypes;\n    let pluginFileTypes;\n    let pluginJointFileTypes;\n\n    const stores = Object.fromEntries(\n        storeUrls.map(storeUrl => ([\n            storeUrl,\n            {\n                async get(key) {\n                    const [data, buffers] = await view.experimental.invoke(\"_zarr_get\", [storeUrl, key]);\n                    if (!data.success) return undefined;\n                    return buffers[0].buffer;\n                },\n            }\n        ])),\n    );\n\n    try {\n        const pluginEsmUrl = URL.createObjectURL(new Blob([pluginEsm], { type: \"text/javascript\" }));\n        const pluginModule = (await import(pluginEsmUrl)).default;\n        URL.revokeObjectURL(pluginEsmUrl);\n\n        const pluginsObj = await pluginModule.createPlugins({\n            React,\n            PluginFileType,\n            PluginViewType,\n            PluginCoordinationType,\n            PluginJointFileType,\n            z,\n            useCoordination,\n        });\n        pluginViewTypes = pluginsObj.pluginViewTypes;\n        pluginCoordinationTypes = pluginsObj.pluginCoordinationTypes;\n        pluginFileTypes = pluginsObj.pluginFileTypes;\n        pluginJointFileTypes = pluginsObj.pluginJointFileTypes;\n    } catch(e) {\n        console.error(e);\n    }\n\n    function VitessceWidget(props) {\n        const { model } = props;\n\n        const [config, setConfig] = React.useState(prependBaseUrl(model.get('config'), model.get('proxy'), model.get('has_host_name')));\n        const [validateConfig, setValidateConfig] = React.useState(true);\n        const height = model.get('height');\n        const theme = model.get('theme') === 'auto' ? (prefersDark ? 'dark' : 'light') : model.get('theme');\n\n        const divRef = React.useRef();\n\n        React.useEffect(() => {\n            if(!divRef.current) {\n                return () => {};\n            }\n\n            function handleMouseEnter() {\n                const jpn = divRef.current.closest('.jp-Notebook');\n                if(jpn) {\n                    jpn.style.overflow = \"hidden\";\n                }\n            }\n            function handleMouseLeave(event) {\n                if(event.relatedTarget === null || (event.relatedTarget && event.relatedTarget.closest('.jp-Notebook')?.length)) return;\n                const jpn = divRef.current.closest('.jp-Notebook');\n                if(jpn) {\n                    jpn.style.overflow = \"auto\";\n                }\n            }\n            divRef.current.addEventListener(\"mouseenter\", handleMouseEnter);\n            divRef.current.addEventListener(\"mouseleave\", handleMouseLeave);\n\n            return () => {\n                if(divRef.current) {\n                    divRef.current.removeEventListener(\"mouseenter\", handleMouseEnter);\n                    divRef.current.removeEventListener(\"mouseleave\", handleMouseLeave);\n                }\n            };\n        }, [divRef]);\n\n        // Config changed on JS side (from within <Vitessce/>),\n        // send updated config to Python side.\n        const onConfigChange = React.useCallback((config) => {\n            model.set('config', config);\n            setValidateConfig(false);\n            model.save_changes();\n        }, [model]);\n\n        // Config changed on Python side,\n        // pass to <Vitessce/> component to it is updated on JS side.\n        React.useEffect(() => {\n            model.on('change:config', () => {\n                const newConfig = prependBaseUrl(model.get('config'), model.get('proxy'), model.get('has_host_name'));\n\n                // Force a re-render and re-validation by setting a new config.uid value.\n                // TODO: make this conditional on a parameter from Python.\n                //newConfig.uid = `random-${Math.random()}`;\n                //console.log('newConfig', newConfig);\n                setConfig(newConfig);\n            });\n        }, []);\n\n        const vitessceProps = {\n            height, theme, config, onConfigChange, validateConfig,\n            pluginViewTypes, pluginCoordinationTypes, pluginFileTypes, pluginJointFileTypes,\n            remountOnUidChange, stores,\n        };\n\n        return e('div', { ref: divRef, style: { height: height + 'px' } },\n            e(React.Suspense, { fallback: e('div', {}, 'Loading...') },\n                e(React.StrictMode, {},\n                    e(Vitessce, vitessceProps)\n                ),\n            ),\n        );\n    }\n\n    const root = createRoot(view.el);\n    root.render(e(VitessceWidget, { model: view.model }));\n\n    return () => {\n        // Re-enable scrolling.\n        const jpn = view.el.closest('.jp-Notebook');\n        if(jpn) {\n            jpn.style.overflow = \"auto\";\n        }\n\n        // Clean up React and DOM state.\n        root.unmount();\n        if(view._isFromDisplay) {\n            view.el.remove();\n        }\n    };\n}\nexport default { render };\n",
            "_model_module": "anywidget",
            "_model_module_version": "~0.9.*",
            "_model_name": "AnyModel",
            "_view_count": null,
            "_view_module": "anywidget",
            "_view_module_version": "~0.9.*",
            "_view_name": "AnyView",
            "config": {
              "coordinationSpace": {
                "additionalObsSets": {
                  "A": null
                },
                "dataset": {
                  "A": "bv",
                  "init_bv_image_0": "init_bv_image_0"
                },
                "featureHighlight": {
                  "A": null
                },
                "featureSelection": {
                  "A": null
                },
                "featureType": {
                  "A": "gene"
                },
                "featureValueColormap": {
                  "A": "plasma"
                },
                "featureValueColormapRange": {
                  "A": [
                    0,
                    1
                  ]
                },
                "featureValueType": {
                  "A": "expression"
                },
                "fileUid": {
                  "A": null,
                  "init_bv_image_0": null
                },
                "imageChannel": {
                  "A": null,
                  "init_bv_image_0": "__dummy__",
                  "init_bv_image_1": "__dummy__",
                  "init_bv_image_2": "__dummy__",
                  "init_bv_image_3": "__dummy__",
                  "init_bv_image_4": "__dummy__"
                },
                "imageLayer": {
                  "A": null,
                  "init_bv_image_0": "__dummy__"
                },
                "legendVisible": {
                  "A": true
                },
                "metaCoordinationScopes": {
                  "init_bv_image_0": {
                    "imageLayer": [
                      "init_bv_image_0"
                    ],
                    "spatialImageLayer": "init_bv_image_0",
                    "spatialRenderingMode": "init_bv_image_0",
                    "spatialTargetT": "init_bv_image_0",
                    "spatialTargetX": "init_bv_image_0",
                    "spatialTargetY": "init_bv_image_0",
                    "spatialTargetZ": "init_bv_image_0",
                    "spatialZoom": "init_bv_image_0"
                  }
                },
                "metaCoordinationScopesBy": {
                  "init_bv_image_0": {
                    "imageChannel": {
                      "spatialChannelColor": {
                        "init_bv_image_0": "init_bv_image_0",
                        "init_bv_image_1": "init_bv_image_1",
                        "init_bv_image_2": "init_bv_image_2",
                        "init_bv_image_3": "init_bv_image_3",
                        "init_bv_image_4": "init_bv_image_4"
                      },
                      "spatialChannelOpacity": {
                        "init_bv_image_0": "init_bv_image_0",
                        "init_bv_image_1": "init_bv_image_1",
                        "init_bv_image_2": "init_bv_image_2",
                        "init_bv_image_3": "init_bv_image_3",
                        "init_bv_image_4": "init_bv_image_4"
                      },
                      "spatialChannelVisible": {
                        "init_bv_image_0": "init_bv_image_0",
                        "init_bv_image_1": "init_bv_image_1",
                        "init_bv_image_2": "init_bv_image_2",
                        "init_bv_image_3": "init_bv_image_3",
                        "init_bv_image_4": "init_bv_image_4"
                      },
                      "spatialChannelWindow": {
                        "init_bv_image_0": "init_bv_image_0",
                        "init_bv_image_1": "init_bv_image_1",
                        "init_bv_image_2": "init_bv_image_2",
                        "init_bv_image_3": "init_bv_image_3",
                        "init_bv_image_4": "init_bv_image_4"
                      },
                      "spatialTargetC": {
                        "init_bv_image_0": "init_bv_image_0",
                        "init_bv_image_1": "init_bv_image_1",
                        "init_bv_image_2": "init_bv_image_2",
                        "init_bv_image_3": "init_bv_image_3",
                        "init_bv_image_4": "init_bv_image_4"
                      }
                    },
                    "imageLayer": {
                      "fileUid": {
                        "init_bv_image_0": "init_bv_image_0"
                      },
                      "imageChannel": {
                        "init_bv_image_0": [
                          "init_bv_image_0",
                          "init_bv_image_1",
                          "init_bv_image_2",
                          "init_bv_image_3"
                        ]
                      },
                      "photometricInterpretation": {
                        "init_bv_image_0": "init_bv_image_0"
                      },
                      "spatialLayerOpacity": {
                        "init_bv_image_0": "init_bv_image_0"
                      },
                      "spatialLayerVisible": {
                        "init_bv_image_0": "init_bv_image_0"
                      },
                      "spatialTargetResolution": {
                        "init_bv_image_0": "init_bv_image_0"
                      },
                      "volumetricRenderingAlgorithm": {
                        "init_bv_image_0": "init_bv_image_0"
                      }
                    }
                  }
                },
                "moleculeHighlight": {
                  "A": null
                },
                "obsColorEncoding": {
                  "A": "cellSetSelection"
                },
                "obsFilter": {
                  "A": null
                },
                "obsHighlight": {
                  "A": null
                },
                "obsLabelsType": {
                  "A": null
                },
                "obsSetColor": {
                  "A": null
                },
                "obsSetHighlight": {
                  "A": null
                },
                "obsSetSelection": {
                  "A": null
                },
                "obsType": {
                  "A": "cell"
                },
                "photometricInterpretation": {
                  "A": null,
                  "init_bv_image_0": "BlackIsZero"
                },
                "pixelHighlight": {
                  "A": null
                },
                "pointLayer": {
                  "A": null
                },
                "segmentationChannel": {
                  "A": null
                },
                "segmentationLayer": {
                  "A": null
                },
                "spatialAxisFixed": {
                  "A": false
                },
                "spatialChannelColor": {
                  "A": [
                    255,
                    255,
                    255
                  ],
                  "init_bv_image_0": [
                    255,
                    125,
                    0
                  ],
                  "init_bv_image_1": [
                    0,
                    255,
                    0
                  ],
                  "init_bv_image_2": [
                    255,
                    255,
                    0
                  ],
                  "init_bv_image_3": [
                    255,
                    0,
                    0
                  ],
                  "init_bv_image_4": [
                    255,
                    255,
                    255
                  ]
                },
                "spatialChannelLabelSize": {
                  "A": 14
                },
                "spatialChannelLabelsOrientation": {
                  "A": "vertical"
                },
                "spatialChannelLabelsVisible": {
                  "A": true
                },
                "spatialChannelOpacity": {
                  "A": 1,
                  "init_bv_image_0": 1,
                  "init_bv_image_1": 1,
                  "init_bv_image_2": 1,
                  "init_bv_image_3": 1,
                  "init_bv_image_4": 1
                },
                "spatialChannelVisible": {
                  "A": true,
                  "init_bv_image_0": true,
                  "init_bv_image_1": true,
                  "init_bv_image_2": true,
                  "init_bv_image_3": true,
                  "init_bv_image_4": true
                },
                "spatialChannelWindow": {
                  "A": null,
                  "init_bv_image_0": [
                    0,
                    9486
                  ],
                  "init_bv_image_1": [
                    666,
                    21313
                  ],
                  "init_bv_image_2": [
                    6,
                    34
                  ],
                  "init_bv_image_3": [
                    1638,
                    36287
                  ],
                  "init_bv_image_4": [
                    0,
                    33595
                  ]
                },
                "spatialImageLayer": {
                  "init_bv_image_0": [
                    {
                      "channels": [
                        {
                          "color": [
                            255,
                            0,
                            0
                          ],
                          "selection": {
                            "c": 0,
                            "t": 0,
                            "z": 97
                          },
                          "slider": [
                            0,
                            34199
                          ],
                          "visible": true
                        },
                        {
                          "color": [
                            0,
                            255,
                            0
                          ],
                          "selection": {
                            "c": 1,
                            "t": 0,
                            "z": 97
                          },
                          "slider": [
                            0,
                            39023
                          ],
                          "visible": true
                        },
                        {
                          "color": [
                            255,
                            151,
                            0
                          ],
                          "selection": {
                            "c": 2,
                            "t": 0,
                            "z": 97
                          },
                          "slider": [
                            0,
                            34477
                          ],
                          "visible": true
                        },
                        {
                          "color": [
                            0,
                            158,
                            0
                          ],
                          "selection": {
                            "c": 3,
                            "t": 0,
                            "z": 97
                          },
                          "slider": [
                            0,
                            35333
                          ],
                          "visible": true
                        }
                      ],
                      "colormap": null,
                      "domainType": "Min/Max",
                      "index": 0,
                      "modelMatrix": [
                        0.13999999999999999,
                        0,
                        0,
                        0,
                        0,
                        0.14,
                        0,
                        0,
                        0,
                        0,
                        0.28,
                        0,
                        0,
                        0,
                        0,
                        1
                      ],
                      "opacity": 1,
                      "renderingMode": "Additive",
                      "transparentColor": null,
                      "type": "raster",
                      "use3d": false,
                      "visible": true
                    }
                  ]
                },
                "spatialLayerColor": {
                  "A": null
                },
                "spatialLayerColormap": {
                  "A": null
                },
                "spatialLayerModelMatrix": {
                  "A": null
                },
                "spatialLayerOpacity": {
                  "A": 1,
                  "init_bv_image_0": 1
                },
                "spatialLayerTransparentColor": {
                  "A": null
                },
                "spatialLayerVisible": {
                  "A": true,
                  "init_bv_image_0": true
                },
                "spatialNeighborhoodLayer": {
                  "A": null
                },
                "spatialOrbitAxis": {
                  "A": "Y"
                },
                "spatialPointLayer": {
                  "A": null
                },
                "spatialRenderingMode": {
                  "A": "2D",
                  "init_bv_image_0": "3D"
                },
                "spatialRotation": {
                  "A": 0
                },
                "spatialRotationOrbit": {
                  "A": 179.62025316455697
                },
                "spatialRotationX": {
                  "A": -4.6927374301675995
                },
                "spatialRotationY": {
                  "A": 0
                },
                "spatialRotationZ": {
                  "A": 0
                },
                "spatialSegmentationFilled": {
                  "A": true
                },
                "spatialSegmentationStrokeWidth": {
                  "A": 1
                },
                "spatialSliceX": {
                  "A": null
                },
                "spatialSliceY": {
                  "A": null
                },
                "spatialSliceZ": {
                  "A": null
                },
                "spatialSpotFilled": {
                  "A": true
                },
                "spatialSpotRadius": {
                  "A": 25
                },
                "spatialSpotStrokeWidth": {
                  "A": 1
                },
                "spatialTargetC": {
                  "A": null,
                  "init_bv_image_0": 9,
                  "init_bv_image_1": 19,
                  "init_bv_image_2": 69,
                  "init_bv_image_3": 21,
                  "init_bv_image_4": 4
                },
                "spatialTargetResolution": {
                  "A": 0,
                  "init_bv_image_0": 3
                },
                "spatialTargetT": {
                  "A": null,
                  "init_bv_image_0": 0
                },
                "spatialTargetX": {
                  "A": null,
                  "init_bv_image_0": 2853.04485284766
                },
                "spatialTargetY": {
                  "A": null,
                  "init_bv_image_0": 1163.3946425459283
                },
                "spatialTargetZ": {
                  "A": null,
                  "B": null,
                  "init_bv_image_0": -22.291924748978087
                },
                "spatialZoom": {
                  "A": null,
                  "init_bv_image_0": -0.3537599091133986
                },
                "spotLayer": {
                  "A": null
                },
                "tooltipCrosshairsVisible": {
                  "A": true
                },
                "tooltipsVisible": {
                  "A": true
                },
                "volumetricRenderingAlgorithm": {
                  "A": "additive",
                  "init_bv_image_0": "maximumIntensityProjection"
                }
              },
              "datasets": [
                {
                  "files": [
                    {
                      "fileType": "image.ome-zarr",
                      "url": "https://lsp-public-data.s3.amazonaws.com/yapp-2023-3d-melanoma/Dataset1-LSP13626-melanoma-in-situ/0"
                    }
                  ],
                  "name": "Blood Vessel",
                  "uid": "bv"
                }
              ],
              "description": "",
              "initStrategy": "auto",
              "layout": [
                {
                  "component": "spatialBeta",
                  "coordinationScopes": {
                    "additionalObsSets": "A",
                    "dataset": "A",
                    "featureHighlight": "A",
                    "featureSelection": "A",
                    "featureType": "A",
                    "featureValueColormap": "A",
                    "featureValueColormapRange": "A",
                    "featureValueType": "A",
                    "fileUid": "A",
                    "imageChannel": "A",
                    "imageLayer": "A",
                    "legendVisible": "A",
                    "metaCoordinationScopes": [
                      "init_bv_image_0",
                      "init_bv_image_0"
                    ],
                    "metaCoordinationScopesBy": [
                      "init_bv_image_0",
                      "init_bv_image_0"
                    ],
                    "moleculeHighlight": "A",
                    "obsColorEncoding": "A",
                    "obsFilter": "A",
                    "obsHighlight": "A",
                    "obsLabelsType": "A",
                    "obsSetColor": "A",
                    "obsSetHighlight": "A",
                    "obsSetSelection": "A",
                    "obsType": "A",
                    "pixelHighlight": "A",
                    "pointLayer": "A",
                    "segmentationChannel": "A",
                    "segmentationLayer": "A",
                    "spatialAxisFixed": "A",
                    "spatialChannelColor": "A",
                    "spatialChannelLabelSize": "A",
                    "spatialChannelLabelsOrientation": "A",
                    "spatialChannelLabelsVisible": "A",
                    "spatialChannelOpacity": "A",
                    "spatialChannelVisible": "A",
                    "spatialChannelWindow": "A",
                    "spatialLayerColor": "A",
                    "spatialLayerColormap": "A",
                    "spatialLayerModelMatrix": "A",
                    "spatialLayerOpacity": "A",
                    "spatialLayerTransparentColor": "A",
                    "spatialLayerVisible": "A",
                    "spatialNeighborhoodLayer": "A",
                    "spatialOrbitAxis": "A",
                    "spatialPointLayer": "A",
                    "spatialRenderingMode": "A",
                    "spatialRotation": "A",
                    "spatialRotationOrbit": "A",
                    "spatialRotationX": "A",
                    "spatialRotationY": "A",
                    "spatialRotationZ": "A",
                    "spatialSegmentationFilled": "A",
                    "spatialSegmentationStrokeWidth": "A",
                    "spatialSliceX": "A",
                    "spatialSliceY": "A",
                    "spatialSliceZ": "A",
                    "spatialSpotFilled": "A",
                    "spatialSpotRadius": "A",
                    "spatialSpotStrokeWidth": "A",
                    "spatialTargetC": "A",
                    "spatialTargetResolution": "A",
                    "spatialTargetT": "A",
                    "spatialTargetX": "A",
                    "spatialTargetY": "A",
                    "spatialTargetZ": "A",
                    "spatialZoom": "A",
                    "spotLayer": "A",
                    "tooltipCrosshairsVisible": "A",
                    "tooltipsVisible": "A",
                    "volumetricRenderingAlgorithm": "A"
                  },
                  "h": 12,
                  "uid": "A",
                  "w": 6,
                  "x": 0,
                  "y": 0
                },
                {
                  "component": "layerControllerBeta",
                  "coordinationScopes": {
                    "dataset": "A",
                    "featureSelection": "A",
                    "featureType": "A",
                    "featureValueColormap": "A",
                    "featureValueColormapRange": "A",
                    "featureValueType": "A",
                    "fileUid": "A",
                    "imageChannel": "A",
                    "imageLayer": "A",
                    "legendVisible": "A",
                    "metaCoordinationScopes": [
                      "init_bv_image_0",
                      "init_bv_image_0"
                    ],
                    "metaCoordinationScopesBy": [
                      "init_bv_image_0",
                      "init_bv_image_0"
                    ],
                    "obsColorEncoding": "A",
                    "obsType": "A",
                    "photometricInterpretation": "A",
                    "pointLayer": "A",
                    "segmentationChannel": "A",
                    "segmentationLayer": "A",
                    "spatialChannelColor": "A",
                    "spatialChannelLabelSize": "A",
                    "spatialChannelLabelsOrientation": "A",
                    "spatialChannelLabelsVisible": "A",
                    "spatialChannelOpacity": "A",
                    "spatialChannelVisible": "A",
                    "spatialChannelWindow": "A",
                    "spatialLayerColor": "A",
                    "spatialLayerColormap": "A",
                    "spatialLayerModelMatrix": "A",
                    "spatialLayerOpacity": "A",
                    "spatialLayerTransparentColor": "A",
                    "spatialLayerVisible": "A",
                    "spatialNeighborhoodLayer": "A",
                    "spatialOrbitAxis": "A",
                    "spatialPointLayer": "A",
                    "spatialRenderingMode": "A",
                    "spatialRotationOrbit": "A",
                    "spatialRotationX": "A",
                    "spatialRotationY": "A",
                    "spatialRotationZ": "A",
                    "spatialSegmentationFilled": "A",
                    "spatialSegmentationStrokeWidth": "A",
                    "spatialSliceX": "A",
                    "spatialSliceY": "A",
                    "spatialSliceZ": "A",
                    "spatialSpotFilled": "A",
                    "spatialSpotRadius": "A",
                    "spatialSpotStrokeWidth": "A",
                    "spatialTargetC": "A",
                    "spatialTargetResolution": "A",
                    "spatialTargetT": "A",
                    "spatialTargetX": "A",
                    "spatialTargetY": "A",
                    "spatialTargetZ": "A",
                    "spatialZoom": "A",
                    "spotLayer": "A",
                    "tooltipCrosshairsVisible": "A",
                    "tooltipsVisible": "A",
                    "volumetricRenderingAlgorithm": "A"
                  },
                  "h": 12,
                  "uid": "B",
                  "w": 6,
                  "x": 6,
                  "y": 0
                }
              ],
              "name": "BioMedVis Challenge",
              "uid": "A",
              "version": "1.0.16"
            },
            "custom_js_url": "",
            "has_host_name": false,
            "height": 600,
            "js_dev_mode": false,
            "js_package_version": "3.4.5",
            "layout": "IPY_MODEL_28d4247cb0f54571ab529a078bd0eb69",
            "plugin_esm": "\nfunction createPlugins(utilsForPlugins) {\n    const {\n        React,\n        PluginFileType,\n        PluginViewType,\n        PluginCoordinationType,\n        PluginJointFileType,\n        z,\n        useCoordination,\n    } = utilsForPlugins;\n    return {\n        pluginViewTypes: undefined,\n        pluginFileTypes: undefined,\n        pluginCoordinationTypes: undefined,\n        pluginJointFileTypes: undefined,\n    };\n}\nexport default { createPlugins };\n",
            "proxy": false,
            "remount_on_uid_change": false,
            "store_urls": [],
            "theme": "auto",
            "uid": "f6d8"
          }
        },
        "7a0a373e64084cb78805328108a76974": {
          "model_module": "@jupyter-widgets/base",
          "model_module_version": "1.2.0",
          "model_name": "LayoutModel",
          "state": {
            "_model_module": "@jupyter-widgets/base",
            "_model_module_version": "1.2.0",
            "_model_name": "LayoutModel",
            "_view_count": null,
            "_view_module": "@jupyter-widgets/base",
            "_view_module_version": "1.2.0",
            "_view_name": "LayoutView",
            "align_content": null,
            "align_items": null,
            "align_self": null,
            "border": null,
            "bottom": null,
            "display": null,
            "flex": null,
            "flex_flow": null,
            "grid_area": null,
            "grid_auto_columns": null,
            "grid_auto_flow": null,
            "grid_auto_rows": null,
            "grid_column": null,
            "grid_gap": null,
            "grid_row": null,
            "grid_template_areas": null,
            "grid_template_columns": null,
            "grid_template_rows": null,
            "height": null,
            "justify_content": null,
            "justify_items": null,
            "left": null,
            "margin": null,
            "max_height": null,
            "max_width": null,
            "min_height": null,
            "min_width": null,
            "object_fit": null,
            "object_position": null,
            "order": null,
            "overflow": null,
            "overflow_x": null,
            "overflow_y": null,
            "padding": null,
            "right": null,
            "top": null,
            "visibility": null,
            "width": null
          }
        },
        "997ef751881c47fabb9c08edf19721c8": {
          "model_module": "anywidget",
          "model_module_version": "~0.9.*",
          "model_name": "AnyModel",
          "state": {
            "_anywidget_id": "vitessce.widget.VitessceWidget",
            "_dom_classes": [],
            "_esm": "\nimport { importWithMap } from 'https://unpkg.com/dynamic-importmap@0.1.0';\nconst importMap = {\n  imports: {\n    \"react\": \"https://esm.sh/react@18.2.0?dev\",\n    \"react-dom\": \"https://esm.sh/react-dom@18.2.0?dev\",\n    \"react-dom/client\": \"https://esm.sh/react-dom@18.2.0/client?dev\",\n  },\n};\n\nconst React = await importWithMap(\"react\", importMap);\nconst { createRoot } = await importWithMap(\"react-dom/client\", importMap);\n\nconst e = React.createElement;\n\nconst prefersDark = window.matchMedia && window.matchMedia('(prefers-color-scheme: dark)').matches;\n\n// The jupyter server may be running through a proxy,\n// which means that the client needs to prepend the part of the URL before /proxy/8000 such as\n// https://hub.gke2.mybinder.org/user/vitessce-vitessce-python-swi31vcv/proxy/8000/A/0/cells\nfunction prependBaseUrl(config, proxy, hasHostName) {\n  if(!proxy || hasHostName) {\n    return config;\n  }\n  const { origin } = new URL(window.location.href);\n  let baseUrl;\n  const jupyterLabConfigEl = document.getElementById('jupyter-config-data');\n\n  if (jupyterLabConfigEl) {\n    // This is jupyter lab\n    baseUrl = JSON.parse(jupyterLabConfigEl.textContent || '').baseUrl;\n  } else {\n    // This is jupyter notebook\n    baseUrl = document.getElementsByTagName('body')[0].getAttribute('data-base-url');\n  }\n  return {\n    ...config,\n    datasets: config.datasets.map(d => ({\n      ...d,\n      files: d.files.map(f => ({\n        ...f,\n        url: `${origin}${baseUrl}${f.url}`,\n      })),\n    })),\n  };\n}\n\nasync function render(view) {\n    const cssUid = view.model.get('uid');\n    const jsDevMode = view.model.get('js_dev_mode');\n    const jsPackageVersion = view.model.get('js_package_version');\n    const customJsUrl = view.model.get('custom_js_url');\n    const pluginEsm = view.model.get('plugin_esm');\n    const remountOnUidChange = view.model.get('remount_on_uid_change');\n    const storeUrls = view.model.get('store_urls');\n\n    const pkgName = (jsDevMode ? \"@vitessce/dev\" : \"vitessce\");\n\n    importMap.imports[\"vitessce\"] = (customJsUrl.length > 0\n        ? customJsUrl\n        : `https://unpkg.com/${pkgName}@${jsPackageVersion}`\n    );\n\n    const {\n        Vitessce,\n        PluginFileType,\n        PluginViewType,\n        PluginCoordinationType,\n        PluginJointFileType,\n        z,\n        useCoordination,\n    } = await importWithMap(\"vitessce\", importMap);\n\n    let pluginViewTypes;\n    let pluginCoordinationTypes;\n    let pluginFileTypes;\n    let pluginJointFileTypes;\n\n    const stores = Object.fromEntries(\n        storeUrls.map(storeUrl => ([\n            storeUrl,\n            {\n                async get(key) {\n                    const [data, buffers] = await view.experimental.invoke(\"_zarr_get\", [storeUrl, key]);\n                    if (!data.success) return undefined;\n                    return buffers[0].buffer;\n                },\n            }\n        ])),\n    );\n\n    try {\n        const pluginEsmUrl = URL.createObjectURL(new Blob([pluginEsm], { type: \"text/javascript\" }));\n        const pluginModule = (await import(pluginEsmUrl)).default;\n        URL.revokeObjectURL(pluginEsmUrl);\n\n        const pluginsObj = await pluginModule.createPlugins({\n            React,\n            PluginFileType,\n            PluginViewType,\n            PluginCoordinationType,\n            PluginJointFileType,\n            z,\n            useCoordination,\n        });\n        pluginViewTypes = pluginsObj.pluginViewTypes;\n        pluginCoordinationTypes = pluginsObj.pluginCoordinationTypes;\n        pluginFileTypes = pluginsObj.pluginFileTypes;\n        pluginJointFileTypes = pluginsObj.pluginJointFileTypes;\n    } catch(e) {\n        console.error(e);\n    }\n\n    function VitessceWidget(props) {\n        const { model } = props;\n\n        const [config, setConfig] = React.useState(prependBaseUrl(model.get('config'), model.get('proxy'), model.get('has_host_name')));\n        const [validateConfig, setValidateConfig] = React.useState(true);\n        const height = model.get('height');\n        const theme = model.get('theme') === 'auto' ? (prefersDark ? 'dark' : 'light') : model.get('theme');\n\n        const divRef = React.useRef();\n\n        React.useEffect(() => {\n            if(!divRef.current) {\n                return () => {};\n            }\n\n            function handleMouseEnter() {\n                const jpn = divRef.current.closest('.jp-Notebook');\n                if(jpn) {\n                    jpn.style.overflow = \"hidden\";\n                }\n            }\n            function handleMouseLeave(event) {\n                if(event.relatedTarget === null || (event.relatedTarget && event.relatedTarget.closest('.jp-Notebook')?.length)) return;\n                const jpn = divRef.current.closest('.jp-Notebook');\n                if(jpn) {\n                    jpn.style.overflow = \"auto\";\n                }\n            }\n            divRef.current.addEventListener(\"mouseenter\", handleMouseEnter);\n            divRef.current.addEventListener(\"mouseleave\", handleMouseLeave);\n\n            return () => {\n                if(divRef.current) {\n                    divRef.current.removeEventListener(\"mouseenter\", handleMouseEnter);\n                    divRef.current.removeEventListener(\"mouseleave\", handleMouseLeave);\n                }\n            };\n        }, [divRef]);\n\n        // Config changed on JS side (from within <Vitessce/>),\n        // send updated config to Python side.\n        const onConfigChange = React.useCallback((config) => {\n            model.set('config', config);\n            setValidateConfig(false);\n            model.save_changes();\n        }, [model]);\n\n        // Config changed on Python side,\n        // pass to <Vitessce/> component to it is updated on JS side.\n        React.useEffect(() => {\n            model.on('change:config', () => {\n                const newConfig = prependBaseUrl(model.get('config'), model.get('proxy'), model.get('has_host_name'));\n\n                // Force a re-render and re-validation by setting a new config.uid value.\n                // TODO: make this conditional on a parameter from Python.\n                //newConfig.uid = `random-${Math.random()}`;\n                //console.log('newConfig', newConfig);\n                setConfig(newConfig);\n            });\n        }, []);\n\n        const vitessceProps = {\n            height, theme, config, onConfigChange, validateConfig,\n            pluginViewTypes, pluginCoordinationTypes, pluginFileTypes, pluginJointFileTypes,\n            remountOnUidChange, stores,\n        };\n\n        return e('div', { ref: divRef, style: { height: height + 'px' } },\n            e(React.Suspense, { fallback: e('div', {}, 'Loading...') },\n                e(React.StrictMode, {},\n                    e(Vitessce, vitessceProps)\n                ),\n            ),\n        );\n    }\n\n    const root = createRoot(view.el);\n    root.render(e(VitessceWidget, { model: view.model }));\n\n    return () => {\n        // Re-enable scrolling.\n        const jpn = view.el.closest('.jp-Notebook');\n        if(jpn) {\n            jpn.style.overflow = \"auto\";\n        }\n\n        // Clean up React and DOM state.\n        root.unmount();\n        if(view._isFromDisplay) {\n            view.el.remove();\n        }\n    };\n}\nexport default { render };\n",
            "_model_module": "anywidget",
            "_model_module_version": "~0.9.*",
            "_model_name": "AnyModel",
            "_view_count": null,
            "_view_module": "anywidget",
            "_view_module_version": "~0.9.*",
            "_view_name": "AnyView",
            "config": {
              "coordinationSpace": {
                "additionalObsSets": {
                  "A": null
                },
                "dataset": {
                  "A": "bv",
                  "init_bv_image_0": "init_bv_image_0"
                },
                "featureHighlight": {
                  "A": null
                },
                "featureSelection": {
                  "A": null
                },
                "featureType": {
                  "A": "gene"
                },
                "featureValueColormap": {
                  "A": "plasma"
                },
                "featureValueColormapRange": {
                  "A": [
                    0,
                    1
                  ]
                },
                "featureValueType": {
                  "A": "expression"
                },
                "fileUid": {
                  "A": null,
                  "init_bv_image_0": null
                },
                "imageChannel": {
                  "A": null,
                  "init_bv_image_0": "__dummy__",
                  "init_bv_image_1": "__dummy__",
                  "init_bv_image_2": "__dummy__",
                  "init_bv_image_3": "__dummy__",
                  "init_bv_image_4": "__dummy__",
                  "init_bv_image_5": "__dummy__"
                },
                "imageLayer": {
                  "A": null,
                  "init_bv_image_0": "__dummy__"
                },
                "legendVisible": {
                  "A": true
                },
                "metaCoordinationScopes": {
                  "init_bv_image_0": {
                    "imageLayer": [
                      "init_bv_image_0"
                    ],
                    "spatialImageLayer": "init_bv_image_0",
                    "spatialRenderingMode": "init_bv_image_0",
                    "spatialTargetT": "init_bv_image_0",
                    "spatialTargetX": "init_bv_image_0",
                    "spatialTargetY": "init_bv_image_0",
                    "spatialTargetZ": "init_bv_image_0",
                    "spatialZoom": "init_bv_image_0"
                  }
                },
                "metaCoordinationScopesBy": {
                  "init_bv_image_0": {
                    "imageChannel": {
                      "spatialChannelColor": {
                        "init_bv_image_0": "init_bv_image_0",
                        "init_bv_image_1": "init_bv_image_1",
                        "init_bv_image_2": "init_bv_image_2",
                        "init_bv_image_3": "init_bv_image_3",
                        "init_bv_image_4": "init_bv_image_4",
                        "init_bv_image_5": "init_bv_image_5"
                      },
                      "spatialChannelOpacity": {
                        "init_bv_image_0": "init_bv_image_0",
                        "init_bv_image_1": "init_bv_image_1",
                        "init_bv_image_2": "init_bv_image_2",
                        "init_bv_image_3": "init_bv_image_3",
                        "init_bv_image_4": "init_bv_image_4",
                        "init_bv_image_5": "init_bv_image_5"
                      },
                      "spatialChannelVisible": {
                        "init_bv_image_0": "init_bv_image_0",
                        "init_bv_image_1": "init_bv_image_1",
                        "init_bv_image_2": "init_bv_image_2",
                        "init_bv_image_3": "init_bv_image_3",
                        "init_bv_image_4": "init_bv_image_4",
                        "init_bv_image_5": "init_bv_image_5"
                      },
                      "spatialChannelWindow": {
                        "init_bv_image_0": "init_bv_image_0",
                        "init_bv_image_1": "init_bv_image_1",
                        "init_bv_image_2": "init_bv_image_2",
                        "init_bv_image_3": "init_bv_image_3",
                        "init_bv_image_4": "init_bv_image_4",
                        "init_bv_image_5": "init_bv_image_5"
                      },
                      "spatialTargetC": {
                        "init_bv_image_0": "init_bv_image_0",
                        "init_bv_image_1": "init_bv_image_1",
                        "init_bv_image_2": "init_bv_image_2",
                        "init_bv_image_3": "init_bv_image_3",
                        "init_bv_image_4": "init_bv_image_4",
                        "init_bv_image_5": "init_bv_image_5"
                      }
                    },
                    "imageLayer": {
                      "fileUid": {
                        "init_bv_image_0": "init_bv_image_0"
                      },
                      "imageChannel": {
                        "init_bv_image_0": [
                          "init_bv_image_0",
                          "init_bv_image_1",
                          "init_bv_image_2",
                          "init_bv_image_3",
                          "init_bv_image_4",
                          "init_bv_image_5"
                        ]
                      },
                      "photometricInterpretation": {
                        "init_bv_image_0": "init_bv_image_0"
                      },
                      "spatialLayerOpacity": {
                        "init_bv_image_0": "init_bv_image_0"
                      },
                      "spatialLayerVisible": {
                        "init_bv_image_0": "init_bv_image_0"
                      },
                      "spatialTargetResolution": {
                        "init_bv_image_0": "init_bv_image_0"
                      },
                      "volumetricRenderingAlgorithm": {
                        "init_bv_image_0": "init_bv_image_0"
                      }
                    }
                  }
                },
                "moleculeHighlight": {
                  "A": null
                },
                "obsColorEncoding": {
                  "A": "cellSetSelection"
                },
                "obsFilter": {
                  "A": null
                },
                "obsHighlight": {
                  "A": null
                },
                "obsLabelsType": {
                  "A": null
                },
                "obsSetColor": {
                  "A": null
                },
                "obsSetHighlight": {
                  "A": null
                },
                "obsSetSelection": {
                  "A": null
                },
                "obsType": {
                  "A": "cell"
                },
                "photometricInterpretation": {
                  "A": null,
                  "init_bv_image_0": "BlackIsZero"
                },
                "pixelHighlight": {
                  "A": null
                },
                "pointLayer": {
                  "A": null
                },
                "segmentationChannel": {
                  "A": null
                },
                "segmentationLayer": {
                  "A": null
                },
                "spatialAxisFixed": {
                  "A": false
                },
                "spatialChannelColor": {
                  "A": [
                    255,
                    255,
                    255
                  ],
                  "init_bv_image_0": [
                    255,
                    125,
                    0
                  ],
                  "init_bv_image_1": [
                    0,
                    0,
                    255
                  ],
                  "init_bv_image_2": [
                    255,
                    255,
                    0
                  ],
                  "init_bv_image_3": [
                    255,
                    0,
                    0
                  ],
                  "init_bv_image_4": [
                    255,
                    0,
                    255
                  ],
                  "init_bv_image_5": [
                    0,
                    255,
                    0
                  ]
                },
                "spatialChannelLabelSize": {
                  "A": 14
                },
                "spatialChannelLabelsOrientation": {
                  "A": "vertical"
                },
                "spatialChannelLabelsVisible": {
                  "A": true
                },
                "spatialChannelOpacity": {
                  "A": 1,
                  "init_bv_image_0": 1,
                  "init_bv_image_1": 1,
                  "init_bv_image_2": 1,
                  "init_bv_image_3": 1,
                  "init_bv_image_4": 1,
                  "init_bv_image_5": 1
                },
                "spatialChannelVisible": {
                  "A": true,
                  "init_bv_image_0": true,
                  "init_bv_image_1": true,
                  "init_bv_image_2": true,
                  "init_bv_image_3": true,
                  "init_bv_image_4": true,
                  "init_bv_image_5": true
                },
                "spatialChannelWindow": {
                  "A": null,
                  "init_bv_image_0": [
                    0,
                    9486
                  ],
                  "init_bv_image_1": [
                    888,
                    6882
                  ],
                  "init_bv_image_2": [
                    6,
                    34
                  ],
                  "init_bv_image_3": [
                    0,
                    6552
                  ],
                  "init_bv_image_4": [
                    475,
                    2983
                  ],
                  "init_bv_image_5": [
                    1287,
                    14825
                  ]
                },
                "spatialImageLayer": {
                  "init_bv_image_0": [
                    {
                      "channels": [
                        {
                          "color": [
                            255,
                            0,
                            0
                          ],
                          "selection": {
                            "c": 0,
                            "t": 0,
                            "z": 97
                          },
                          "slider": [
                            0,
                            34199
                          ],
                          "visible": true
                        },
                        {
                          "color": [
                            0,
                            255,
                            0
                          ],
                          "selection": {
                            "c": 1,
                            "t": 0,
                            "z": 97
                          },
                          "slider": [
                            0,
                            39023
                          ],
                          "visible": true
                        },
                        {
                          "color": [
                            255,
                            151,
                            0
                          ],
                          "selection": {
                            "c": 2,
                            "t": 0,
                            "z": 97
                          },
                          "slider": [
                            0,
                            34477
                          ],
                          "visible": true
                        },
                        {
                          "color": [
                            0,
                            158,
                            0
                          ],
                          "selection": {
                            "c": 3,
                            "t": 0,
                            "z": 97
                          },
                          "slider": [
                            0,
                            35333
                          ],
                          "visible": true
                        }
                      ],
                      "colormap": null,
                      "domainType": "Min/Max",
                      "index": 0,
                      "modelMatrix": [
                        0.13999999999999999,
                        0,
                        0,
                        0,
                        0,
                        0.14,
                        0,
                        0,
                        0,
                        0,
                        0.28,
                        0,
                        0,
                        0,
                        0,
                        1
                      ],
                      "opacity": 1,
                      "renderingMode": "Additive",
                      "transparentColor": null,
                      "type": "raster",
                      "use3d": false,
                      "visible": true
                    }
                  ]
                },
                "spatialLayerColor": {
                  "A": null
                },
                "spatialLayerColormap": {
                  "A": null
                },
                "spatialLayerModelMatrix": {
                  "A": null
                },
                "spatialLayerOpacity": {
                  "A": 1,
                  "init_bv_image_0": 1
                },
                "spatialLayerTransparentColor": {
                  "A": null
                },
                "spatialLayerVisible": {
                  "A": true,
                  "init_bv_image_0": true
                },
                "spatialNeighborhoodLayer": {
                  "A": null
                },
                "spatialOrbitAxis": {
                  "A": "Y"
                },
                "spatialPointLayer": {
                  "A": null
                },
                "spatialRenderingMode": {
                  "A": "2D",
                  "init_bv_image_0": "3D"
                },
                "spatialRotation": {
                  "A": 0
                },
                "spatialRotationOrbit": {
                  "A": 0
                },
                "spatialRotationX": {
                  "A": 0
                },
                "spatialRotationY": {
                  "A": 0
                },
                "spatialRotationZ": {
                  "A": 0
                },
                "spatialSegmentationFilled": {
                  "A": true
                },
                "spatialSegmentationStrokeWidth": {
                  "A": 1
                },
                "spatialSliceX": {
                  "A": null
                },
                "spatialSliceY": {
                  "A": null
                },
                "spatialSliceZ": {
                  "A": null
                },
                "spatialSpotFilled": {
                  "A": true
                },
                "spatialSpotRadius": {
                  "A": 25
                },
                "spatialSpotStrokeWidth": {
                  "A": 1
                },
                "spatialTargetC": {
                  "A": null,
                  "init_bv_image_0": 9,
                  "init_bv_image_1": 19,
                  "init_bv_image_2": 69,
                  "init_bv_image_3": 21,
                  "init_bv_image_4": 29,
                  "init_bv_image_5": 3
                },
                "spatialTargetResolution": {
                  "A": 0,
                  "init_bv_image_0": 3
                },
                "spatialTargetT": {
                  "A": null,
                  "init_bv_image_0": 0
                },
                "spatialTargetX": {
                  "A": null,
                  "init_bv_image_0": 5254
                },
                "spatialTargetY": {
                  "A": null,
                  "init_bv_image_0": 2834
                },
                "spatialTargetZ": {
                  "A": null,
                  "B": null,
                  "init_bv_image_0": 0
                },
                "spatialZoom": {
                  "A": null,
                  "init_bv_image_0": -1.9130077708150839
                },
                "spotLayer": {
                  "A": null
                },
                "tooltipCrosshairsVisible": {
                  "A": true
                },
                "tooltipsVisible": {
                  "A": true
                },
                "volumetricRenderingAlgorithm": {
                  "A": "additive",
                  "init_bv_image_0": "maximumIntensityProjection"
                }
              },
              "datasets": [
                {
                  "files": [
                    {
                      "fileType": "image.ome-zarr",
                      "url": "https://lsp-public-data.s3.amazonaws.com/yapp-2023-3d-melanoma/Dataset1-LSP13626-melanoma-in-situ/0"
                    }
                  ],
                  "name": "Blood Vessel",
                  "uid": "bv"
                }
              ],
              "description": "",
              "initStrategy": "auto",
              "layout": [
                {
                  "component": "spatialBeta",
                  "coordinationScopes": {
                    "additionalObsSets": "A",
                    "dataset": "A",
                    "featureHighlight": "A",
                    "featureSelection": "A",
                    "featureType": "A",
                    "featureValueColormap": "A",
                    "featureValueColormapRange": "A",
                    "featureValueType": "A",
                    "fileUid": "A",
                    "imageChannel": "A",
                    "imageLayer": "A",
                    "legendVisible": "A",
                    "metaCoordinationScopes": [
                      "init_bv_image_0",
                      "init_bv_image_0"
                    ],
                    "metaCoordinationScopesBy": [
                      "init_bv_image_0",
                      "init_bv_image_0"
                    ],
                    "moleculeHighlight": "A",
                    "obsColorEncoding": "A",
                    "obsFilter": "A",
                    "obsHighlight": "A",
                    "obsLabelsType": "A",
                    "obsSetColor": "A",
                    "obsSetHighlight": "A",
                    "obsSetSelection": "A",
                    "obsType": "A",
                    "pixelHighlight": "A",
                    "pointLayer": "A",
                    "segmentationChannel": "A",
                    "segmentationLayer": "A",
                    "spatialAxisFixed": "A",
                    "spatialChannelColor": "A",
                    "spatialChannelLabelSize": "A",
                    "spatialChannelLabelsOrientation": "A",
                    "spatialChannelLabelsVisible": "A",
                    "spatialChannelOpacity": "A",
                    "spatialChannelVisible": "A",
                    "spatialChannelWindow": "A",
                    "spatialLayerColor": "A",
                    "spatialLayerColormap": "A",
                    "spatialLayerModelMatrix": "A",
                    "spatialLayerOpacity": "A",
                    "spatialLayerTransparentColor": "A",
                    "spatialLayerVisible": "A",
                    "spatialNeighborhoodLayer": "A",
                    "spatialOrbitAxis": "A",
                    "spatialPointLayer": "A",
                    "spatialRenderingMode": "A",
                    "spatialRotation": "A",
                    "spatialRotationOrbit": "A",
                    "spatialRotationX": "A",
                    "spatialRotationY": "A",
                    "spatialRotationZ": "A",
                    "spatialSegmentationFilled": "A",
                    "spatialSegmentationStrokeWidth": "A",
                    "spatialSliceX": "A",
                    "spatialSliceY": "A",
                    "spatialSliceZ": "A",
                    "spatialSpotFilled": "A",
                    "spatialSpotRadius": "A",
                    "spatialSpotStrokeWidth": "A",
                    "spatialTargetC": "A",
                    "spatialTargetResolution": "A",
                    "spatialTargetT": "A",
                    "spatialTargetX": "A",
                    "spatialTargetY": "A",
                    "spatialTargetZ": "A",
                    "spatialZoom": "A",
                    "spotLayer": "A",
                    "tooltipCrosshairsVisible": "A",
                    "tooltipsVisible": "A",
                    "volumetricRenderingAlgorithm": "A"
                  },
                  "h": 12,
                  "uid": "A",
                  "w": 6,
                  "x": 0,
                  "y": 0
                },
                {
                  "component": "layerControllerBeta",
                  "coordinationScopes": {
                    "dataset": "A",
                    "featureSelection": "A",
                    "featureType": "A",
                    "featureValueColormap": "A",
                    "featureValueColormapRange": "A",
                    "featureValueType": "A",
                    "fileUid": "A",
                    "imageChannel": "A",
                    "imageLayer": "A",
                    "legendVisible": "A",
                    "metaCoordinationScopes": [
                      "init_bv_image_0",
                      "init_bv_image_0"
                    ],
                    "metaCoordinationScopesBy": [
                      "init_bv_image_0",
                      "init_bv_image_0"
                    ],
                    "obsColorEncoding": "A",
                    "obsType": "A",
                    "photometricInterpretation": "A",
                    "pointLayer": "A",
                    "segmentationChannel": "A",
                    "segmentationLayer": "A",
                    "spatialChannelColor": "A",
                    "spatialChannelLabelSize": "A",
                    "spatialChannelLabelsOrientation": "A",
                    "spatialChannelLabelsVisible": "A",
                    "spatialChannelOpacity": "A",
                    "spatialChannelVisible": "A",
                    "spatialChannelWindow": "A",
                    "spatialLayerColor": "A",
                    "spatialLayerColormap": "A",
                    "spatialLayerModelMatrix": "A",
                    "spatialLayerOpacity": "A",
                    "spatialLayerTransparentColor": "A",
                    "spatialLayerVisible": "A",
                    "spatialNeighborhoodLayer": "A",
                    "spatialOrbitAxis": "A",
                    "spatialPointLayer": "A",
                    "spatialRenderingMode": "A",
                    "spatialRotationOrbit": "A",
                    "spatialRotationX": "A",
                    "spatialRotationY": "A",
                    "spatialRotationZ": "A",
                    "spatialSegmentationFilled": "A",
                    "spatialSegmentationStrokeWidth": "A",
                    "spatialSliceX": "A",
                    "spatialSliceY": "A",
                    "spatialSliceZ": "A",
                    "spatialSpotFilled": "A",
                    "spatialSpotRadius": "A",
                    "spatialSpotStrokeWidth": "A",
                    "spatialTargetC": "A",
                    "spatialTargetResolution": "A",
                    "spatialTargetT": "A",
                    "spatialTargetX": "A",
                    "spatialTargetY": "A",
                    "spatialTargetZ": "A",
                    "spatialZoom": "A",
                    "spotLayer": "A",
                    "tooltipCrosshairsVisible": "A",
                    "tooltipsVisible": "A",
                    "volumetricRenderingAlgorithm": "A"
                  },
                  "h": 12,
                  "uid": "B",
                  "w": 6,
                  "x": 6,
                  "y": 0
                }
              ],
              "name": "BioMedVis Challenge",
              "uid": "A",
              "version": "1.0.16"
            },
            "custom_js_url": "",
            "has_host_name": false,
            "height": 600,
            "js_dev_mode": false,
            "js_package_version": "3.4.5",
            "layout": "IPY_MODEL_7a0a373e64084cb78805328108a76974",
            "plugin_esm": "\nfunction createPlugins(utilsForPlugins) {\n    const {\n        React,\n        PluginFileType,\n        PluginViewType,\n        PluginCoordinationType,\n        PluginJointFileType,\n        z,\n        useCoordination,\n    } = utilsForPlugins;\n    return {\n        pluginViewTypes: undefined,\n        pluginFileTypes: undefined,\n        pluginCoordinationTypes: undefined,\n        pluginJointFileTypes: undefined,\n    };\n}\nexport default { createPlugins };\n",
            "proxy": false,
            "remount_on_uid_change": false,
            "store_urls": [],
            "theme": "auto",
            "uid": "7f82"
          }
        }
      }
    }
  },
  "nbformat": 4,
  "nbformat_minor": 0
}

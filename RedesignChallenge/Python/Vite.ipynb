{
 "cells": [
  {
   "cell_type": "code",
   "execution_count": 1,
   "metadata": {},
   "outputs": [],
   "source": [
    "import zarr\n",
    "import anndata as ad\n",
    "from vitessce import (\n",
    "    VitessceConfig,\n",
    "    Component as cm,\n",
    "    CoordinationType as ct,\n",
    "    AnnDataWrapper,\n",
    ")"
   ]
  },
  {
   "cell_type": "code",
   "execution_count": 12,
   "metadata": {},
   "outputs": [
    {
     "data": {
      "application/vnd.jupyter.widget-view+json": {
       "model_id": "a95e666cafdb43d89e65551890ffc692",
       "version_major": 2,
       "version_minor": 1
      },
      "text/plain": [
       "VitessceWidget(config={'version': '1.0.16', 'name': 'My Spatial Dataset', 'description': 'Spatial view of my d…"
      ]
     },
     "execution_count": 12,
     "metadata": {},
     "output_type": "execute_result"
    }
   ],
   "source": [
    "zarr_path = \"../data/output_data.h5ad.zarr\"\n",
    "schema_version = \"1.0.16\"\n",
    "vc = VitessceConfig(\n",
    "    name=\"My Spatial Dataset\",\n",
    "    description=\"Spatial view of my dataset\",\n",
    "    schema_version=schema_version,\n",
    ")\n",
    "dataset = vc.add_dataset(name=\"Spatial Dataset\").add_object(AnnDataWrapper(zarr_path, cell_set_obs=[\"obs\"], mappings_obsm=[\"spatial\"]))\n",
    "\n",
    "# Setup the spatial component\n",
    "spatial = vc.add_view(cm.SPATIAL, dataset=dataset)\n",
    "vc.layout(spatial)\n",
    "\n",
    "# Create the Vitessce widget\n",
    "vw = vc.widget()\n",
    "vw"
   ]
  }
 ],
 "metadata": {
  "kernelspec": {
   "display_name": "VDS",
   "language": "python",
   "name": "python3"
  },
  "language_info": {
   "codemirror_mode": {
    "name": "ipython",
    "version": 3
   },
   "file_extension": ".py",
   "mimetype": "text/x-python",
   "name": "python",
   "nbconvert_exporter": "python",
   "pygments_lexer": "ipython3",
   "version": "3.10.13"
  }
 },
 "nbformat": 4,
 "nbformat_minor": 2
}
